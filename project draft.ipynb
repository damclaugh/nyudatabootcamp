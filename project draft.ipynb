{
 "cells": [
  {
   "cell_type": "code",
   "execution_count": 14,
   "metadata": {
    "collapsed": true
   },
   "outputs": [],
   "source": [
    "# import packages \n",
    "import pandas as pd\n",
    "import matplotlib as mpl \n",
    "import matplotlib.pyplot as plt\n",
    "import numpy as np\n",
    "import matplotlib.ticker as ticker\n",
    "\n",
    "# IPython command, puts plots in notebook \n",
    "%matplotlib inline"
   ]
  },
  {
   "cell_type": "code",
   "execution_count": 15,
   "metadata": {},
   "outputs": [
    {
     "data": {
      "text/html": [
       "<div>\n",
       "<style>\n",
       "    .dataframe thead tr:only-child th {\n",
       "        text-align: right;\n",
       "    }\n",
       "\n",
       "    .dataframe thead th {\n",
       "        text-align: left;\n",
       "    }\n",
       "\n",
       "    .dataframe tbody tr th {\n",
       "        vertical-align: top;\n",
       "    }\n",
       "</style>\n",
       "<table border=\"1\" class=\"dataframe\">\n",
       "  <thead>\n",
       "    <tr style=\"text-align: right;\">\n",
       "      <th></th>\n",
       "      <th>Year</th>\n",
       "      <th>Total</th>\n",
       "      <th>Native</th>\n",
       "      <th>Naturalized Citizen</th>\n",
       "      <th>Not Citizen</th>\n",
       "    </tr>\n",
       "  </thead>\n",
       "  <tbody>\n",
       "    <tr>\n",
       "      <th>0</th>\n",
       "      <td>2014</td>\n",
       "      <td>313401</td>\n",
       "      <td>272658</td>\n",
       "      <td>19134</td>\n",
       "      <td>21609</td>\n",
       "    </tr>\n",
       "    <tr>\n",
       "      <th>1</th>\n",
       "      <td>2013</td>\n",
       "      <td>311116</td>\n",
       "      <td>271010</td>\n",
       "      <td>18200</td>\n",
       "      <td>21906</td>\n",
       "    </tr>\n",
       "    <tr>\n",
       "      <th>2</th>\n",
       "      <td>2012</td>\n",
       "      <td>308827</td>\n",
       "      <td>268851</td>\n",
       "      <td>17934</td>\n",
       "      <td>22042</td>\n",
       "    </tr>\n",
       "    <tr>\n",
       "      <th>3</th>\n",
       "      <td>2011</td>\n",
       "      <td>306110</td>\n",
       "      <td>267884</td>\n",
       "      <td>16801</td>\n",
       "      <td>21424</td>\n",
       "    </tr>\n",
       "    <tr>\n",
       "      <th>4</th>\n",
       "      <td>2010</td>\n",
       "      <td>304280</td>\n",
       "      <td>266674</td>\n",
       "      <td>16024</td>\n",
       "      <td>21581</td>\n",
       "    </tr>\n",
       "    <tr>\n",
       "      <th>5</th>\n",
       "      <td>2009</td>\n",
       "      <td>301483</td>\n",
       "      <td>264733</td>\n",
       "      <td>15475</td>\n",
       "      <td>21274</td>\n",
       "    </tr>\n",
       "    <tr>\n",
       "      <th>6</th>\n",
       "      <td>2008</td>\n",
       "      <td>299106</td>\n",
       "      <td>261842</td>\n",
       "      <td>15050</td>\n",
       "      <td>22214</td>\n",
       "    </tr>\n",
       "    <tr>\n",
       "      <th>7</th>\n",
       "      <td>2007</td>\n",
       "      <td>296824</td>\n",
       "      <td>259545</td>\n",
       "      <td>14538</td>\n",
       "      <td>22741</td>\n",
       "    </tr>\n",
       "    <tr>\n",
       "      <th>8</th>\n",
       "      <td>2006</td>\n",
       "      <td>293834</td>\n",
       "      <td>258175</td>\n",
       "      <td>13884</td>\n",
       "      <td>21775</td>\n",
       "    </tr>\n",
       "    <tr>\n",
       "      <th>9</th>\n",
       "      <td>2005</td>\n",
       "      <td>291166</td>\n",
       "      <td>255952</td>\n",
       "      <td>13507</td>\n",
       "      <td>21707</td>\n",
       "    </tr>\n",
       "    <tr>\n",
       "      <th>10</th>\n",
       "      <td>2004</td>\n",
       "      <td>288280</td>\n",
       "      <td>254037</td>\n",
       "      <td>13128</td>\n",
       "      <td>21116</td>\n",
       "    </tr>\n",
       "    <tr>\n",
       "      <th>11</th>\n",
       "      <td>2003</td>\n",
       "      <td>285933</td>\n",
       "      <td>252463</td>\n",
       "      <td>12837</td>\n",
       "      <td>20634</td>\n",
       "    </tr>\n",
       "    <tr>\n",
       "      <th>12</th>\n",
       "      <td>2002</td>\n",
       "      <td>282082</td>\n",
       "      <td>249629</td>\n",
       "      <td>11962</td>\n",
       "      <td>20491</td>\n",
       "    </tr>\n",
       "    <tr>\n",
       "      <th>13</th>\n",
       "      <td>2001</td>\n",
       "      <td>279517</td>\n",
       "      <td>247706</td>\n",
       "      <td>11785</td>\n",
       "      <td>20026</td>\n",
       "    </tr>\n",
       "    <tr>\n",
       "      <th>14</th>\n",
       "      <td>2000</td>\n",
       "      <td>276804</td>\n",
       "      <td>246819</td>\n",
       "      <td>11067</td>\n",
       "      <td>18918</td>\n",
       "    </tr>\n",
       "    <tr>\n",
       "      <th>15</th>\n",
       "      <td>1999</td>\n",
       "      <td>271743</td>\n",
       "      <td>245295</td>\n",
       "      <td>9868</td>\n",
       "      <td>16579</td>\n",
       "    </tr>\n",
       "    <tr>\n",
       "      <th>16</th>\n",
       "      <td>1998</td>\n",
       "      <td>269094</td>\n",
       "      <td>242813</td>\n",
       "      <td>9739</td>\n",
       "      <td>16542</td>\n",
       "    </tr>\n",
       "    <tr>\n",
       "      <th>17</th>\n",
       "      <td>1997</td>\n",
       "      <td>266792</td>\n",
       "      <td>241014</td>\n",
       "      <td>9043</td>\n",
       "      <td>16736</td>\n",
       "    </tr>\n",
       "    <tr>\n",
       "      <th>18</th>\n",
       "      <td>1996</td>\n",
       "      <td>264314</td>\n",
       "      <td>239757</td>\n",
       "      <td>7904</td>\n",
       "      <td>16653</td>\n",
       "    </tr>\n",
       "    <tr>\n",
       "      <th>19</th>\n",
       "      <td>1995</td>\n",
       "      <td>262107</td>\n",
       "      <td>237614</td>\n",
       "      <td>7601</td>\n",
       "      <td>16892</td>\n",
       "    </tr>\n",
       "  </tbody>\n",
       "</table>\n",
       "</div>"
      ],
      "text/plain": [
       "    Year   Total  Native  Naturalized Citizen  Not Citizen\n",
       "0   2014  313401  272658                19134        21609\n",
       "1   2013  311116  271010                18200        21906\n",
       "2   2012  308827  268851                17934        22042\n",
       "3   2011  306110  267884                16801        21424\n",
       "4   2010  304280  266674                16024        21581\n",
       "5   2009  301483  264733                15475        21274\n",
       "6   2008  299106  261842                15050        22214\n",
       "7   2007  296824  259545                14538        22741\n",
       "8   2006  293834  258175                13884        21775\n",
       "9   2005  291166  255952                13507        21707\n",
       "10  2004  288280  254037                13128        21116\n",
       "11  2003  285933  252463                12837        20634\n",
       "12  2002  282082  249629                11962        20491\n",
       "13  2001  279517  247706                11785        20026\n",
       "14  2000  276804  246819                11067        18918\n",
       "15  1999  271743  245295                 9868        16579\n",
       "16  1998  269094  242813                 9739        16542\n",
       "17  1997  266792  241014                 9043        16736\n",
       "18  1996  264314  239757                 7904        16653\n",
       "19  1995  262107  237614                 7601        16892"
      ]
     },
     "execution_count": 15,
     "metadata": {},
     "output_type": "execute_result"
    }
   ],
   "source": [
    "immpopdf = pd.read_excel('/Users/davidmclaughlin/Documents/Data_Bootcamp/immigrantpoptotals.xlsx')\n",
    "immpopdf"
   ]
  },
  {
   "cell_type": "code",
   "execution_count": 17,
   "metadata": {},
   "outputs": [
    {
     "data": {
      "text/html": [
       "<div>\n",
       "<style>\n",
       "    .dataframe thead tr:only-child th {\n",
       "        text-align: right;\n",
       "    }\n",
       "\n",
       "    .dataframe thead th {\n",
       "        text-align: left;\n",
       "    }\n",
       "\n",
       "    .dataframe tbody tr th {\n",
       "        vertical-align: top;\n",
       "    }\n",
       "</style>\n",
       "<table border=\"1\" class=\"dataframe\">\n",
       "  <thead>\n",
       "    <tr style=\"text-align: right;\">\n",
       "      <th></th>\n",
       "      <th>Year</th>\n",
       "      <th>Total</th>\n",
       "      <th>Native</th>\n",
       "      <th>Naturalized Citizen</th>\n",
       "      <th>Not Citizen</th>\n",
       "      <th>Immigrant Total</th>\n",
       "      <th>Native Pct</th>\n",
       "      <th>Immigrant Pct</th>\n",
       "    </tr>\n",
       "  </thead>\n",
       "  <tbody>\n",
       "    <tr>\n",
       "      <th>0</th>\n",
       "      <td>2014</td>\n",
       "      <td>313401</td>\n",
       "      <td>272658</td>\n",
       "      <td>19134</td>\n",
       "      <td>21609</td>\n",
       "      <td>40743</td>\n",
       "      <td>86.999722</td>\n",
       "      <td>13.000278</td>\n",
       "    </tr>\n",
       "    <tr>\n",
       "      <th>1</th>\n",
       "      <td>2013</td>\n",
       "      <td>311116</td>\n",
       "      <td>271010</td>\n",
       "      <td>18200</td>\n",
       "      <td>21906</td>\n",
       "      <td>40106</td>\n",
       "      <td>87.108988</td>\n",
       "      <td>12.891012</td>\n",
       "    </tr>\n",
       "    <tr>\n",
       "      <th>2</th>\n",
       "      <td>2012</td>\n",
       "      <td>308827</td>\n",
       "      <td>268851</td>\n",
       "      <td>17934</td>\n",
       "      <td>22042</td>\n",
       "      <td>39976</td>\n",
       "      <td>87.055536</td>\n",
       "      <td>12.944464</td>\n",
       "    </tr>\n",
       "    <tr>\n",
       "      <th>3</th>\n",
       "      <td>2011</td>\n",
       "      <td>306110</td>\n",
       "      <td>267884</td>\n",
       "      <td>16801</td>\n",
       "      <td>21424</td>\n",
       "      <td>38225</td>\n",
       "      <td>87.512332</td>\n",
       "      <td>12.487341</td>\n",
       "    </tr>\n",
       "    <tr>\n",
       "      <th>4</th>\n",
       "      <td>2010</td>\n",
       "      <td>304280</td>\n",
       "      <td>266674</td>\n",
       "      <td>16024</td>\n",
       "      <td>21581</td>\n",
       "      <td>37605</td>\n",
       "      <td>87.640989</td>\n",
       "      <td>12.358683</td>\n",
       "    </tr>\n",
       "    <tr>\n",
       "      <th>5</th>\n",
       "      <td>2009</td>\n",
       "      <td>301483</td>\n",
       "      <td>264733</td>\n",
       "      <td>15475</td>\n",
       "      <td>21274</td>\n",
       "      <td>36749</td>\n",
       "      <td>87.810258</td>\n",
       "      <td>12.189410</td>\n",
       "    </tr>\n",
       "    <tr>\n",
       "      <th>6</th>\n",
       "      <td>2008</td>\n",
       "      <td>299106</td>\n",
       "      <td>261842</td>\n",
       "      <td>15050</td>\n",
       "      <td>22214</td>\n",
       "      <td>37264</td>\n",
       "      <td>87.541540</td>\n",
       "      <td>12.458460</td>\n",
       "    </tr>\n",
       "    <tr>\n",
       "      <th>7</th>\n",
       "      <td>2007</td>\n",
       "      <td>296824</td>\n",
       "      <td>259545</td>\n",
       "      <td>14538</td>\n",
       "      <td>22741</td>\n",
       "      <td>37279</td>\n",
       "      <td>87.440706</td>\n",
       "      <td>12.559294</td>\n",
       "    </tr>\n",
       "    <tr>\n",
       "      <th>8</th>\n",
       "      <td>2006</td>\n",
       "      <td>293834</td>\n",
       "      <td>258175</td>\n",
       "      <td>13884</td>\n",
       "      <td>21775</td>\n",
       "      <td>35659</td>\n",
       "      <td>87.864236</td>\n",
       "      <td>12.135764</td>\n",
       "    </tr>\n",
       "    <tr>\n",
       "      <th>9</th>\n",
       "      <td>2005</td>\n",
       "      <td>291166</td>\n",
       "      <td>255952</td>\n",
       "      <td>13507</td>\n",
       "      <td>21707</td>\n",
       "      <td>35214</td>\n",
       "      <td>87.905868</td>\n",
       "      <td>12.094132</td>\n",
       "    </tr>\n",
       "    <tr>\n",
       "      <th>10</th>\n",
       "      <td>2004</td>\n",
       "      <td>288280</td>\n",
       "      <td>254037</td>\n",
       "      <td>13128</td>\n",
       "      <td>21116</td>\n",
       "      <td>34244</td>\n",
       "      <td>88.121618</td>\n",
       "      <td>11.878729</td>\n",
       "    </tr>\n",
       "    <tr>\n",
       "      <th>11</th>\n",
       "      <td>2003</td>\n",
       "      <td>285933</td>\n",
       "      <td>252463</td>\n",
       "      <td>12837</td>\n",
       "      <td>20634</td>\n",
       "      <td>33471</td>\n",
       "      <td>88.294461</td>\n",
       "      <td>11.705889</td>\n",
       "    </tr>\n",
       "    <tr>\n",
       "      <th>12</th>\n",
       "      <td>2002</td>\n",
       "      <td>282082</td>\n",
       "      <td>249629</td>\n",
       "      <td>11962</td>\n",
       "      <td>20491</td>\n",
       "      <td>32453</td>\n",
       "      <td>88.495189</td>\n",
       "      <td>11.504811</td>\n",
       "    </tr>\n",
       "    <tr>\n",
       "      <th>13</th>\n",
       "      <td>2001</td>\n",
       "      <td>279517</td>\n",
       "      <td>247706</td>\n",
       "      <td>11785</td>\n",
       "      <td>20026</td>\n",
       "      <td>31811</td>\n",
       "      <td>88.619297</td>\n",
       "      <td>11.380703</td>\n",
       "    </tr>\n",
       "    <tr>\n",
       "      <th>14</th>\n",
       "      <td>2000</td>\n",
       "      <td>276804</td>\n",
       "      <td>246819</td>\n",
       "      <td>11067</td>\n",
       "      <td>18918</td>\n",
       "      <td>29985</td>\n",
       "      <td>89.167425</td>\n",
       "      <td>10.832575</td>\n",
       "    </tr>\n",
       "    <tr>\n",
       "      <th>15</th>\n",
       "      <td>1999</td>\n",
       "      <td>271743</td>\n",
       "      <td>245295</td>\n",
       "      <td>9868</td>\n",
       "      <td>16579</td>\n",
       "      <td>26447</td>\n",
       "      <td>90.267275</td>\n",
       "      <td>9.732357</td>\n",
       "    </tr>\n",
       "    <tr>\n",
       "      <th>16</th>\n",
       "      <td>1998</td>\n",
       "      <td>269094</td>\n",
       "      <td>242813</td>\n",
       "      <td>9739</td>\n",
       "      <td>16542</td>\n",
       "      <td>26281</td>\n",
       "      <td>90.233524</td>\n",
       "      <td>9.766476</td>\n",
       "    </tr>\n",
       "    <tr>\n",
       "      <th>17</th>\n",
       "      <td>1997</td>\n",
       "      <td>266792</td>\n",
       "      <td>241014</td>\n",
       "      <td>9043</td>\n",
       "      <td>16736</td>\n",
       "      <td>25779</td>\n",
       "      <td>90.337791</td>\n",
       "      <td>9.662584</td>\n",
       "    </tr>\n",
       "    <tr>\n",
       "      <th>18</th>\n",
       "      <td>1996</td>\n",
       "      <td>264314</td>\n",
       "      <td>239757</td>\n",
       "      <td>7904</td>\n",
       "      <td>16653</td>\n",
       "      <td>24557</td>\n",
       "      <td>90.709157</td>\n",
       "      <td>9.290843</td>\n",
       "    </tr>\n",
       "    <tr>\n",
       "      <th>19</th>\n",
       "      <td>1995</td>\n",
       "      <td>262107</td>\n",
       "      <td>237614</td>\n",
       "      <td>7601</td>\n",
       "      <td>16892</td>\n",
       "      <td>24493</td>\n",
       "      <td>90.655343</td>\n",
       "      <td>9.344657</td>\n",
       "    </tr>\n",
       "  </tbody>\n",
       "</table>\n",
       "</div>"
      ],
      "text/plain": [
       "    Year   Total  Native  Naturalized Citizen  Not Citizen  Immigrant Total  \\\n",
       "0   2014  313401  272658                19134        21609            40743   \n",
       "1   2013  311116  271010                18200        21906            40106   \n",
       "2   2012  308827  268851                17934        22042            39976   \n",
       "3   2011  306110  267884                16801        21424            38225   \n",
       "4   2010  304280  266674                16024        21581            37605   \n",
       "5   2009  301483  264733                15475        21274            36749   \n",
       "6   2008  299106  261842                15050        22214            37264   \n",
       "7   2007  296824  259545                14538        22741            37279   \n",
       "8   2006  293834  258175                13884        21775            35659   \n",
       "9   2005  291166  255952                13507        21707            35214   \n",
       "10  2004  288280  254037                13128        21116            34244   \n",
       "11  2003  285933  252463                12837        20634            33471   \n",
       "12  2002  282082  249629                11962        20491            32453   \n",
       "13  2001  279517  247706                11785        20026            31811   \n",
       "14  2000  276804  246819                11067        18918            29985   \n",
       "15  1999  271743  245295                 9868        16579            26447   \n",
       "16  1998  269094  242813                 9739        16542            26281   \n",
       "17  1997  266792  241014                 9043        16736            25779   \n",
       "18  1996  264314  239757                 7904        16653            24557   \n",
       "19  1995  262107  237614                 7601        16892            24493   \n",
       "\n",
       "    Native Pct  Immigrant Pct  \n",
       "0    86.999722      13.000278  \n",
       "1    87.108988      12.891012  \n",
       "2    87.055536      12.944464  \n",
       "3    87.512332      12.487341  \n",
       "4    87.640989      12.358683  \n",
       "5    87.810258      12.189410  \n",
       "6    87.541540      12.458460  \n",
       "7    87.440706      12.559294  \n",
       "8    87.864236      12.135764  \n",
       "9    87.905868      12.094132  \n",
       "10   88.121618      11.878729  \n",
       "11   88.294461      11.705889  \n",
       "12   88.495189      11.504811  \n",
       "13   88.619297      11.380703  \n",
       "14   89.167425      10.832575  \n",
       "15   90.267275       9.732357  \n",
       "16   90.233524       9.766476  \n",
       "17   90.337791       9.662584  \n",
       "18   90.709157       9.290843  \n",
       "19   90.655343       9.344657  "
      ]
     },
     "execution_count": 17,
     "metadata": {},
     "output_type": "execute_result"
    }
   ],
   "source": [
    "immpopdf['Immigrant Total'] = immpopdf['Naturalized Citizen'] + immpopdf['Not Citizen']\n",
    "immpopdf['Native Pct'] = (immpopdf['Native']/immpopdf['Total'])*100\n",
    "immpopdf['Immigrant Pct'] = (immpopdf['Immigrant Total']/immpopdf['Total'])*100\n",
    "immpopdf"
   ]
  },
  {
   "cell_type": "code",
   "execution_count": 54,
   "metadata": {},
   "outputs": [],
   "source": [
    "immpopchartdf1 = immpopdf[['Year', 'Immigrant Pct']]\n",
    "immpopchartdf1 = immpopchartdf1.set_index('Year')\n",
    "immpopchartdf1 = immpopchartdf1.sort_index(ascending=True, axis=0)"
   ]
  },
  {
   "cell_type": "code",
   "execution_count": 57,
   "metadata": {},
   "outputs": [
    {
     "data": {
      "image/png": "[encoded data removed]",
      "text/plain": [
       "<matplotlib.figure.Figure at 0x11ad9dba8>"
      ]
     },
     "metadata": {},
     "output_type": "display_data"
    }
   ],
   "source": [
    "fig, ax = plt.subplots()\n",
    "immpopchartdf1.plot(ax=ax)\n",
    "ax.set_ylim([0,20])\n",
    "ax.set_xlabel('')\n",
    "plt.xticks(np.arange(1995, 2014, 2.0))\n",
    "plt.show()"
   ]
  },
  {
   "cell_type": "code",
   "execution_count": null,
   "metadata": {
    "collapsed": true
   },
   "outputs": [],
   "source": [
    "immpopchartdf2 = immpopdf[['Year', 'Naturalized Citizen', 'Not Citizen']]\n",
    "immpopchartdf2 = immpopchartdf2.set_index('Year')\n",
    "immpopchartdf2 = immpopchartdf2.sort_index(ascending=True, axis=0)"
   ]
  },
  {
   "cell_type": "code",
   "execution_count": 58,
   "metadata": {},
   "outputs": [
    {
     "data": {
      "image/png": "[encoded data removed]",
      "text/plain": [
       "<matplotlib.figure.Figure at 0x11b381518>"
      ]
     },
     "metadata": {},
     "output_type": "display_data"
    }
   ],
   "source": [
    "fig, ax = plt.subplots()\n",
    "immpopchartdf2.plot(ax=ax)\n",
    "ax.set_ylim([0,25000])\n",
    "ax.set_xlabel('')\n",
    "plt.xticks(np.arange(1995, 2014, 2.0))\n",
    "plt.show()"
   ]
  },
  {
   "cell_type": "code",
   "execution_count": 49,
   "metadata": {},
   "outputs": [
    {
     "data": {
      "text/plain": [
       "0.14748289242216367"
      ]
     },
     "execution_count": 49,
     "metadata": {},
     "output_type": "execute_result"
    }
   ],
   "source": [
    "natimmdf = immpopdf[['Native', 'Immigrant Total']]\n",
    "natpctchange = (natimmdf.iloc[0]['Native']-natimmdf.iloc[19]['Native'])/natimmdf.iloc[19]['Native']\n",
    "natpctchange"
   ]
  },
  {
   "cell_type": "code",
   "execution_count": 51,
   "metadata": {},
   "outputs": [
    {
     "data": {
      "text/plain": [
       "0.66345486465520764"
      ]
     },
     "execution_count": 51,
     "metadata": {},
     "output_type": "execute_result"
    }
   ],
   "source": [
    "immpctchange = (natimmdf.iloc[0]['Immigrant Total']-natimmdf.iloc[19]['Immigrant Total'])/natimmdf.iloc[19]['Immigrant Total']\n",
    "immpctchange"
   ]
  },
  {
   "cell_type": "code",
   "execution_count": 59,
   "metadata": {
    "collapsed": true
   },
   "outputs": [],
   "source": [
    "employstatsdf = pd.read_excel('/Users/davidmclaughlin/Documents/Data_Bootcamp/fbemploystatus19962016.xls')"
   ]
  },
  {
   "cell_type": "code",
   "execution_count": 63,
   "metadata": {},
   "outputs": [
    {
     "data": {
      "text/html": [
       "<div>\n",
       "<style>\n",
       "    .dataframe thead tr:only-child th {\n",
       "        text-align: right;\n",
       "    }\n",
       "\n",
       "    .dataframe thead th {\n",
       "        text-align: left;\n",
       "    }\n",
       "\n",
       "    .dataframe tbody tr th {\n",
       "        vertical-align: top;\n",
       "    }\n",
       "</style>\n",
       "<table border=\"1\" class=\"dataframe\">\n",
       "  <thead>\n",
       "    <tr style=\"text-align: right;\">\n",
       "      <th></th>\n",
       "      <th>Foreign born pct total</th>\n",
       "    </tr>\n",
       "  </thead>\n",
       "  <tbody>\n",
       "    <tr>\n",
       "      <th>1996</th>\n",
       "      <td>0.107605</td>\n",
       "    </tr>\n",
       "    <tr>\n",
       "      <th>1997</th>\n",
       "      <td>0.113091</td>\n",
       "    </tr>\n",
       "    <tr>\n",
       "      <th>1998</th>\n",
       "      <td>0.116886</td>\n",
       "    </tr>\n",
       "    <tr>\n",
       "      <th>1999</th>\n",
       "      <td>0.118514</td>\n",
       "    </tr>\n",
       "    <tr>\n",
       "      <th>2000</th>\n",
       "      <td>0.132982</td>\n",
       "    </tr>\n",
       "    <tr>\n",
       "      <th>2001</th>\n",
       "      <td>0.138248</td>\n",
       "    </tr>\n",
       "    <tr>\n",
       "      <th>2002</th>\n",
       "      <td>0.139987</td>\n",
       "    </tr>\n",
       "    <tr>\n",
       "      <th>2003</th>\n",
       "      <td>0.144134</td>\n",
       "    </tr>\n",
       "    <tr>\n",
       "      <th>2004</th>\n",
       "      <td>0.145406</td>\n",
       "    </tr>\n",
       "    <tr>\n",
       "      <th>2005</th>\n",
       "      <td>0.147616</td>\n",
       "    </tr>\n",
       "    <tr>\n",
       "      <th>2006</th>\n",
       "      <td>0.152865</td>\n",
       "    </tr>\n",
       "    <tr>\n",
       "      <th>2007</th>\n",
       "      <td>0.156697</td>\n",
       "    </tr>\n",
       "    <tr>\n",
       "      <th>2008</th>\n",
       "      <td>0.155963</td>\n",
       "    </tr>\n",
       "    <tr>\n",
       "      <th>2009</th>\n",
       "      <td>0.155221</td>\n",
       "    </tr>\n",
       "    <tr>\n",
       "      <th>2010</th>\n",
       "      <td>0.15827</td>\n",
       "    </tr>\n",
       "    <tr>\n",
       "      <th>2011</th>\n",
       "      <td>0.158778</td>\n",
       "    </tr>\n",
       "    <tr>\n",
       "      <th>2012</th>\n",
       "      <td>0.161484</td>\n",
       "    </tr>\n",
       "    <tr>\n",
       "      <th>2013</th>\n",
       "      <td>0.162997</td>\n",
       "    </tr>\n",
       "    <tr>\n",
       "      <th>2014</th>\n",
       "      <td>0.16505</td>\n",
       "    </tr>\n",
       "    <tr>\n",
       "      <th>2015</th>\n",
       "      <td>0.16711</td>\n",
       "    </tr>\n",
       "    <tr>\n",
       "      <th>2016</th>\n",
       "      <td>0.169304</td>\n",
       "    </tr>\n",
       "  </tbody>\n",
       "</table>\n",
       "</div>"
      ],
      "text/plain": [
       "     Foreign born pct total\n",
       "1996               0.107605\n",
       "1997               0.113091\n",
       "1998               0.116886\n",
       "1999               0.118514\n",
       "2000               0.132982\n",
       "2001               0.138248\n",
       "2002               0.139987\n",
       "2003               0.144134\n",
       "2004               0.145406\n",
       "2005               0.147616\n",
       "2006               0.152865\n",
       "2007               0.156697\n",
       "2008               0.155963\n",
       "2009               0.155221\n",
       "2010                0.15827\n",
       "2011               0.158778\n",
       "2012               0.161484\n",
       "2013               0.162997\n",
       "2014                0.16505\n",
       "2015                0.16711\n",
       "2016               0.169304"
      ]
     },
     "execution_count": 63,
     "metadata": {},
     "output_type": "execute_result"
    }
   ],
   "source": [
    "laborforcedf = employstatsdf.loc[['Foreign born pct total']]\n",
    "laborforcedf = laborforcedf.T\n",
    "laborforcedf"
   ]
  },
  {
   "cell_type": "code",
   "execution_count": 62,
   "metadata": {},
   "outputs": [
    {
     "data": {
      "image/png": "[encoded data removed]",
      "text/plain": [
       "<matplotlib.figure.Figure at 0x11b3cfc18>"
      ]
     },
     "metadata": {},
     "output_type": "display_data"
    }
   ],
   "source": [
    "fig, ax = plt.subplots()\n",
    "laborforcedf.plot(ax=ax)\n",
    "plt.xticks(np.arange(1996, 2016, 2.0))\n",
    "ax.set_ylim([0,0.20])\n",
    "plt.show()"
   ]
  },
  {
   "cell_type": "code",
   "execution_count": 70,
   "metadata": {
    "collapsed": true
   },
   "outputs": [],
   "source": [
    "dfemploy14 = pd.read_excel('/Users/davidmclaughlin/Documents/Data_Bootcamp/censusemploy2014.xlsx')"
   ]
  },
  {
   "cell_type": "code",
   "execution_count": 72,
   "metadata": {},
   "outputs": [],
   "source": [
    "dftotals = dfemploy14.iloc[1][['Asia Total', 'Europe Total', 'Mexico Total', 'Other LatAm Total', 'Other Total']]"
   ]
  },
  {
   "cell_type": "code",
   "execution_count": 73,
   "metadata": {},
   "outputs": [
    {
     "data": {
      "image/png": "[encoded data removed]",
      "text/plain": [
       "<matplotlib.figure.Figure at 0x11ad7afd0>"
      ]
     },
     "metadata": {},
     "output_type": "display_data"
    }
   ],
   "source": [
    "fig, ax = plt.subplots()\n",
    "dftotals.plot(ax=ax, kind='bar')\n",
    "plt.show()"
   ]
  },
  {
   "cell_type": "code",
   "execution_count": 74,
   "metadata": {},
   "outputs": [],
   "source": [
    "immlfdf = pd.read_excel('/Users/davidmclaughlin/Documents/Data_Bootcamp/immlaborforcestats.xlsx')"
   ]
  },
  {
   "cell_type": "code",
   "execution_count": 75,
   "metadata": {
    "collapsed": true
   },
   "outputs": [],
   "source": [
    "immlfdf['Foreign Born Share Of Labor Force'] = (immlfdf['Foreign Born Labor Force Level']/(immlfdf['Foreign Born Labor Force Level']+\n",
    "                                                immlfdf['Native Born Labor Force Level']))*100"
   ]
  },
  {
   "cell_type": "code",
   "execution_count": 88,
   "metadata": {},
   "outputs": [],
   "source": [
    "immlaborsharedf = immlfdf[['Year', 'Foreign Born Share Of Labor Force']]"
   ]
  },
  {
   "cell_type": "code",
   "execution_count": 89,
   "metadata": {},
   "outputs": [],
   "source": [
    "immlaborsharedftrim = immlaborsharedf[0:13]"
   ]
  },
  {
   "cell_type": "code",
   "execution_count": 82,
   "metadata": {
    "collapsed": true
   },
   "outputs": [],
   "source": [
    "immpctdf = immpopdf[['Year', 'Immigrant Pct']]"
   ]
  },
  {
   "cell_type": "code",
   "execution_count": 91,
   "metadata": {
    "collapsed": true
   },
   "outputs": [],
   "source": [
    "immpctdftrim = immpctdf[0:13]"
   ]
  },
  {
   "cell_type": "code",
   "execution_count": 93,
   "metadata": {
    "collapsed": true
   },
   "outputs": [],
   "source": [
    "immcombodf = pd.merge(immlaborsharedftrim,\n",
    "                      immpctdftrim,\n",
    "                      how='left',\n",
    "                      on='Year')"
   ]
  },
  {
   "cell_type": "code",
   "execution_count": 94,
   "metadata": {},
   "outputs": [
    {
     "data": {
      "text/html": [
       "<div>\n",
       "<style>\n",
       "    .dataframe thead tr:only-child th {\n",
       "        text-align: right;\n",
       "    }\n",
       "\n",
       "    .dataframe thead th {\n",
       "        text-align: left;\n",
       "    }\n",
       "\n",
       "    .dataframe tbody tr th {\n",
       "        vertical-align: top;\n",
       "    }\n",
       "</style>\n",
       "<table border=\"1\" class=\"dataframe\">\n",
       "  <thead>\n",
       "    <tr style=\"text-align: right;\">\n",
       "      <th></th>\n",
       "      <th>Year</th>\n",
       "      <th>Foreign Born Share Of Labor Force</th>\n",
       "      <th>Immigrant Pct</th>\n",
       "    </tr>\n",
       "  </thead>\n",
       "  <tbody>\n",
       "    <tr>\n",
       "      <th>0</th>\n",
       "      <td>2002</td>\n",
       "      <td>13.998744</td>\n",
       "      <td>11.504811</td>\n",
       "    </tr>\n",
       "    <tr>\n",
       "      <th>1</th>\n",
       "      <td>2003</td>\n",
       "      <td>14.413351</td>\n",
       "      <td>11.705889</td>\n",
       "    </tr>\n",
       "    <tr>\n",
       "      <th>2</th>\n",
       "      <td>2004</td>\n",
       "      <td>14.540607</td>\n",
       "      <td>11.878729</td>\n",
       "    </tr>\n",
       "    <tr>\n",
       "      <th>3</th>\n",
       "      <td>2005</td>\n",
       "      <td>14.761586</td>\n",
       "      <td>12.094132</td>\n",
       "    </tr>\n",
       "    <tr>\n",
       "      <th>4</th>\n",
       "      <td>2006</td>\n",
       "      <td>15.286473</td>\n",
       "      <td>12.135764</td>\n",
       "    </tr>\n",
       "    <tr>\n",
       "      <th>5</th>\n",
       "      <td>2007</td>\n",
       "      <td>15.669653</td>\n",
       "      <td>12.559294</td>\n",
       "    </tr>\n",
       "    <tr>\n",
       "      <th>6</th>\n",
       "      <td>2008</td>\n",
       "      <td>15.596259</td>\n",
       "      <td>12.458460</td>\n",
       "    </tr>\n",
       "    <tr>\n",
       "      <th>7</th>\n",
       "      <td>2009</td>\n",
       "      <td>15.522051</td>\n",
       "      <td>12.189410</td>\n",
       "    </tr>\n",
       "    <tr>\n",
       "      <th>8</th>\n",
       "      <td>2010</td>\n",
       "      <td>15.826992</td>\n",
       "      <td>12.358683</td>\n",
       "    </tr>\n",
       "    <tr>\n",
       "      <th>9</th>\n",
       "      <td>2011</td>\n",
       "      <td>15.877800</td>\n",
       "      <td>12.487341</td>\n",
       "    </tr>\n",
       "    <tr>\n",
       "      <th>10</th>\n",
       "      <td>2012</td>\n",
       "      <td>16.148515</td>\n",
       "      <td>12.944464</td>\n",
       "    </tr>\n",
       "    <tr>\n",
       "      <th>11</th>\n",
       "      <td>2013</td>\n",
       "      <td>16.299738</td>\n",
       "      <td>12.891012</td>\n",
       "    </tr>\n",
       "    <tr>\n",
       "      <th>12</th>\n",
       "      <td>2014</td>\n",
       "      <td>16.505047</td>\n",
       "      <td>13.000278</td>\n",
       "    </tr>\n",
       "  </tbody>\n",
       "</table>\n",
       "</div>"
      ],
      "text/plain": [
       "    Year  Foreign Born Share Of Labor Force  Immigrant Pct\n",
       "0   2002                          13.998744      11.504811\n",
       "1   2003                          14.413351      11.705889\n",
       "2   2004                          14.540607      11.878729\n",
       "3   2005                          14.761586      12.094132\n",
       "4   2006                          15.286473      12.135764\n",
       "5   2007                          15.669653      12.559294\n",
       "6   2008                          15.596259      12.458460\n",
       "7   2009                          15.522051      12.189410\n",
       "8   2010                          15.826992      12.358683\n",
       "9   2011                          15.877800      12.487341\n",
       "10  2012                          16.148515      12.944464\n",
       "11  2013                          16.299738      12.891012\n",
       "12  2014                          16.505047      13.000278"
      ]
     },
     "execution_count": 94,
     "metadata": {},
     "output_type": "execute_result"
    }
   ],
   "source": [
    "immcombodf"
   ]
  },
  {
   "cell_type": "code",
   "execution_count": 95,
   "metadata": {
    "collapsed": true
   },
   "outputs": [],
   "source": [
    "immcombodf = immcombodf.set_index('Year')"
   ]
  },
  {
   "cell_type": "code",
   "execution_count": 96,
   "metadata": {},
   "outputs": [
    {
     "data": {
      "image/png": "[encoded data removed]",
      "text/plain": [
       "<matplotlib.figure.Figure at 0x11b02ac50>"
      ]
     },
     "metadata": {},
     "output_type": "display_data"
    }
   ],
   "source": [
    "fig, ax = plt.subplots()\n",
    "immcombodf.plot(ax=ax)\n",
    "ax.set_ylim(ymin=0, ymax=20)\n",
    "plt.show()"
   ]
  },
  {
   "cell_type": "code",
   "execution_count": 60,
   "metadata": {
    "collapsed": true
   },
   "outputs": [],
   "source": [
    "statedf = pd.read_excel('/Users/davidmclaughlin/Documents/Data_Bootcamp/stateimmdata.xlsx')"
   ]
  },
  {
   "cell_type": "code",
   "execution_count": 61,
   "metadata": {},
   "outputs": [
    {
     "data": {
      "text/html": [
       "<div>\n",
       "<style>\n",
       "    .dataframe thead tr:only-child th {\n",
       "        text-align: right;\n",
       "    }\n",
       "\n",
       "    .dataframe thead th {\n",
       "        text-align: left;\n",
       "    }\n",
       "\n",
       "    .dataframe tbody tr th {\n",
       "        vertical-align: top;\n",
       "    }\n",
       "</style>\n",
       "<table border=\"1\" class=\"dataframe\">\n",
       "  <thead>\n",
       "    <tr style=\"text-align: right;\">\n",
       "      <th></th>\n",
       "      <th>CA</th>\n",
       "      <th>TX</th>\n",
       "      <th>ME</th>\n",
       "      <th>MT</th>\n",
       "      <th>AZ</th>\n",
       "      <th>CO</th>\n",
       "      <th>NV</th>\n",
       "      <th>WY</th>\n",
       "      <th>NY</th>\n",
       "      <th>FL</th>\n",
       "    </tr>\n",
       "  </thead>\n",
       "  <tbody>\n",
       "    <tr>\n",
       "      <th>Native Pop</th>\n",
       "      <td>0.73</td>\n",
       "      <td>0.83</td>\n",
       "      <td>0.96</td>\n",
       "      <td>0.980</td>\n",
       "      <td>0.870</td>\n",
       "      <td>0.90</td>\n",
       "      <td>0.810</td>\n",
       "      <td>0.960</td>\n",
       "      <td>0.770</td>\n",
       "      <td>0.800</td>\n",
       "    </tr>\n",
       "    <tr>\n",
       "      <th>Foreign Born Pop</th>\n",
       "      <td>0.27</td>\n",
       "      <td>0.17</td>\n",
       "      <td>0.04</td>\n",
       "      <td>0.020</td>\n",
       "      <td>0.130</td>\n",
       "      <td>0.10</td>\n",
       "      <td>0.190</td>\n",
       "      <td>0.040</td>\n",
       "      <td>0.230</td>\n",
       "      <td>0.200</td>\n",
       "    </tr>\n",
       "    <tr>\n",
       "      <th>Naturalized Pop</th>\n",
       "      <td>0.13</td>\n",
       "      <td>0.06</td>\n",
       "      <td>0.02</td>\n",
       "      <td>0.010</td>\n",
       "      <td>0.050</td>\n",
       "      <td>0.04</td>\n",
       "      <td>0.090</td>\n",
       "      <td>0.010</td>\n",
       "      <td>0.120</td>\n",
       "      <td>0.110</td>\n",
       "    </tr>\n",
       "    <tr>\n",
       "      <th>Not Citizen Pop</th>\n",
       "      <td>0.14</td>\n",
       "      <td>0.11</td>\n",
       "      <td>0.02</td>\n",
       "      <td>0.090</td>\n",
       "      <td>0.080</td>\n",
       "      <td>0.06</td>\n",
       "      <td>0.100</td>\n",
       "      <td>0.020</td>\n",
       "      <td>0.100</td>\n",
       "      <td>0.090</td>\n",
       "    </tr>\n",
       "    <tr>\n",
       "      <th>Total Less Than High School</th>\n",
       "      <td>0.18</td>\n",
       "      <td>0.18</td>\n",
       "      <td>0.08</td>\n",
       "      <td>0.071</td>\n",
       "      <td>0.138</td>\n",
       "      <td>0.09</td>\n",
       "      <td>0.146</td>\n",
       "      <td>0.076</td>\n",
       "      <td>0.141</td>\n",
       "      <td>0.128</td>\n",
       "    </tr>\n",
       "  </tbody>\n",
       "</table>\n",
       "</div>"
      ],
      "text/plain": [
       "                               CA    TX    ME     MT     AZ    CO     NV  \\\n",
       "Native Pop                   0.73  0.83  0.96  0.980  0.870  0.90  0.810   \n",
       "Foreign Born Pop             0.27  0.17  0.04  0.020  0.130  0.10  0.190   \n",
       "Naturalized Pop              0.13  0.06  0.02  0.010  0.050  0.04  0.090   \n",
       "Not Citizen Pop              0.14  0.11  0.02  0.090  0.080  0.06  0.100   \n",
       "Total Less Than High School  0.18  0.18  0.08  0.071  0.138  0.09  0.146   \n",
       "\n",
       "                                WY     NY     FL  \n",
       "Native Pop                   0.960  0.770  0.800  \n",
       "Foreign Born Pop             0.040  0.230  0.200  \n",
       "Naturalized Pop              0.010  0.120  0.110  \n",
       "Not Citizen Pop              0.020  0.100  0.090  \n",
       "Total Less Than High School  0.076  0.141  0.128  "
      ]
     },
     "execution_count": 61,
     "metadata": {},
     "output_type": "execute_result"
    }
   ],
   "source": [
    "statedf.head()"
   ]
  },
  {
   "cell_type": "code",
   "execution_count": 71,
   "metadata": {
    "collapsed": true
   },
   "outputs": [],
   "source": [
    "popempdf = statedf.loc[['Foreign Born Pop', 'Total Unemployed Rate']]"
   ]
  },
  {
   "cell_type": "code",
   "execution_count": 72,
   "metadata": {
    "collapsed": true
   },
   "outputs": [],
   "source": [
    "popempdf = popempdf.T"
   ]
  },
  {
   "cell_type": "code",
   "execution_count": 73,
   "metadata": {},
   "outputs": [
    {
     "data": {
      "text/html": [
       "<div>\n",
       "<style>\n",
       "    .dataframe thead tr:only-child th {\n",
       "        text-align: right;\n",
       "    }\n",
       "\n",
       "    .dataframe thead th {\n",
       "        text-align: left;\n",
       "    }\n",
       "\n",
       "    .dataframe tbody tr th {\n",
       "        vertical-align: top;\n",
       "    }\n",
       "</style>\n",
       "<table border=\"1\" class=\"dataframe\">\n",
       "  <thead>\n",
       "    <tr style=\"text-align: right;\">\n",
       "      <th></th>\n",
       "      <th>Foreign Born Pop</th>\n",
       "      <th>Total Unemployed Rate</th>\n",
       "    </tr>\n",
       "  </thead>\n",
       "  <tbody>\n",
       "    <tr>\n",
       "      <th>CA</th>\n",
       "      <td>0.27</td>\n",
       "      <td>0.055</td>\n",
       "    </tr>\n",
       "    <tr>\n",
       "      <th>TX</th>\n",
       "      <td>0.17</td>\n",
       "      <td>0.041</td>\n",
       "    </tr>\n",
       "    <tr>\n",
       "      <th>ME</th>\n",
       "      <td>0.04</td>\n",
       "      <td>0.038</td>\n",
       "    </tr>\n",
       "    <tr>\n",
       "      <th>MT</th>\n",
       "      <td>0.02</td>\n",
       "      <td>0.036</td>\n",
       "    </tr>\n",
       "    <tr>\n",
       "      <th>AZ</th>\n",
       "      <td>0.13</td>\n",
       "      <td>0.047</td>\n",
       "    </tr>\n",
       "    <tr>\n",
       "      <th>CO</th>\n",
       "      <td>0.10</td>\n",
       "      <td>0.040</td>\n",
       "    </tr>\n",
       "    <tr>\n",
       "      <th>NV</th>\n",
       "      <td>0.19</td>\n",
       "      <td>0.059</td>\n",
       "    </tr>\n",
       "    <tr>\n",
       "      <th>WY</th>\n",
       "      <td>0.04</td>\n",
       "      <td>0.033</td>\n",
       "    </tr>\n",
       "    <tr>\n",
       "      <th>NY</th>\n",
       "      <td>0.23</td>\n",
       "      <td>0.048</td>\n",
       "    </tr>\n",
       "    <tr>\n",
       "      <th>FL</th>\n",
       "      <td>0.20</td>\n",
       "      <td>0.049</td>\n",
       "    </tr>\n",
       "  </tbody>\n",
       "</table>\n",
       "</div>"
      ],
      "text/plain": [
       "    Foreign Born Pop  Total Unemployed Rate\n",
       "CA              0.27                  0.055\n",
       "TX              0.17                  0.041\n",
       "ME              0.04                  0.038\n",
       "MT              0.02                  0.036\n",
       "AZ              0.13                  0.047\n",
       "CO              0.10                  0.040\n",
       "NV              0.19                  0.059\n",
       "WY              0.04                  0.033\n",
       "NY              0.23                  0.048\n",
       "FL              0.20                  0.049"
      ]
     },
     "execution_count": 73,
     "metadata": {},
     "output_type": "execute_result"
    }
   ],
   "source": [
    "popempdf"
   ]
  },
  {
   "cell_type": "code",
   "execution_count": 74,
   "metadata": {
    "collapsed": true
   },
   "outputs": [],
   "source": [
    "popempdf2 = statedf.loc[['Not Citizen Pop', 'Total Unemployed Rate']]"
   ]
  },
  {
   "cell_type": "code",
   "execution_count": 75,
   "metadata": {
    "collapsed": true
   },
   "outputs": [],
   "source": [
    "popempdf2 = popempdf2.T"
   ]
  },
  {
   "cell_type": "code",
   "execution_count": 79,
   "metadata": {
    "collapsed": true
   },
   "outputs": [],
   "source": [
    "popempdf3 = statedf.loc[['Foreign Born Pop', 'Native Unemployed Rate']]"
   ]
  },
  {
   "cell_type": "code",
   "execution_count": 80,
   "metadata": {
    "collapsed": true
   },
   "outputs": [],
   "source": [
    "popempdf3 = popempdf3.T"
   ]
  },
  {
   "cell_type": "code",
   "execution_count": 76,
   "metadata": {
    "scrolled": false
   },
   "outputs": [
    {
     "data": {
      "text/plain": [
       "<matplotlib.axes._subplots.AxesSubplot at 0x11b541278>"
      ]
     },
     "execution_count": 76,
     "metadata": {},
     "output_type": "execute_result"
    },
    {
     "data": {
      "image/png": "[encoded data removed]",
      "text/plain": [
       "<matplotlib.figure.Figure at 0x11b541860>"
      ]
     },
     "metadata": {},
     "output_type": "display_data"
    }
   ],
   "source": [
    "popempdf.plot(kind='scatter', x='Foreign Born Pop', y='Total Unemployed Rate')"
   ]
  },
  {
   "cell_type": "code",
   "execution_count": 77,
   "metadata": {},
   "outputs": [
    {
     "data": {
      "text/plain": [
       "<matplotlib.axes._subplots.AxesSubplot at 0x11b780160>"
      ]
     },
     "execution_count": 77,
     "metadata": {},
     "output_type": "execute_result"
    },
    {
     "data": {
      "image/png": "[encoded data removed]",
      "text/plain": [
       "<matplotlib.figure.Figure at 0x11b040b70>"
      ]
     },
     "metadata": {},
     "output_type": "display_data"
    }
   ],
   "source": [
    "popempdf2.plot(kind='scatter', x='Not Citizen Pop', y='Total Unemployed Rate')"
   ]
  },
  {
   "cell_type": "code",
   "execution_count": 82,
   "metadata": {},
   "outputs": [
    {
     "data": {
      "text/plain": [
       "<matplotlib.axes._subplots.AxesSubplot at 0x11b50ec50>"
      ]
     },
     "execution_count": 82,
     "metadata": {},
     "output_type": "execute_result"
    },
    {
     "data": {
      "image/png": "[encoded data removed]",
      "text/plain": [
       "<matplotlib.figure.Figure at 0x1a1d88e240>"
      ]
     },
     "metadata": {},
     "output_type": "display_data"
    }
   ],
   "source": [
    "popempdf3.plot(kind='scatter', x='Foreign Born Pop', y='Native Unemployed Rate')"
   ]
  },
  {
   "cell_type": "code",
   "execution_count": 38,
   "metadata": {},
   "outputs": [
    {
     "data": {
      "image/png": "[encoded data removed]",
      "text/plain": [
       "<matplotlib.figure.Figure at 0x11b3af898>"
      ]
     },
     "metadata": {},
     "output_type": "display_data"
    }
   ],
   "source": [
    "fig, ax = plt.subplots()\n",
    "popempdf.plot('Foreign Born Pop', 'Total Unemployed Rate', kind='scatter', ax=ax)\n",
    "\n",
    "for k, v in popempdf.iterrows():\n",
    "    ax.annotate(k, v)"
   ]
  },
  {
   "cell_type": "code",
   "execution_count": 46,
   "metadata": {
    "collapsed": true
   },
   "outputs": [],
   "source": [
    "immwagedf = statedf.loc[['Foreign Born Pop', 'Total Median Household Income']]"
   ]
  },
  {
   "cell_type": "code",
   "execution_count": 47,
   "metadata": {
    "collapsed": true
   },
   "outputs": [],
   "source": [
    "immwagedf = immwagedf.T"
   ]
  },
  {
   "cell_type": "code",
   "execution_count": 83,
   "metadata": {
    "collapsed": true
   },
   "outputs": [],
   "source": [
    "immwagedf2 = statedf.loc[['Not Citizen Pop', 'Total Median Household Income']]"
   ]
  },
  {
   "cell_type": "code",
   "execution_count": 85,
   "metadata": {
    "collapsed": true
   },
   "outputs": [],
   "source": [
    "immwagedf2 = immwagedf2.T"
   ]
  },
  {
   "cell_type": "code",
   "execution_count": 86,
   "metadata": {},
   "outputs": [
    {
     "data": {
      "text/plain": [
       "<matplotlib.axes._subplots.AxesSubplot at 0x1a1daa1cc0>"
      ]
     },
     "execution_count": 86,
     "metadata": {},
     "output_type": "execute_result"
    },
    {
     "data": {
      "image/png": "[encoded data removed]",
      "text/plain": [
       "<matplotlib.figure.Figure at 0x1a1d9218d0>"
      ]
     },
     "metadata": {},
     "output_type": "display_data"
    }
   ],
   "source": [
    "immwagedf.plot(kind='scatter', x='Foreign Born Pop', y='Total Median Household Income')"
   ]
  },
  {
   "cell_type": "code",
   "execution_count": 87,
   "metadata": {},
   "outputs": [
    {
     "data": {
      "text/plain": [
       "<matplotlib.axes._subplots.AxesSubplot at 0x1a1dc265c0>"
      ]
     },
     "execution_count": 87,
     "metadata": {},
     "output_type": "execute_result"
    },
    {
     "data": {
      "image/png": "[encoded data removed]",
      "text/plain": [
       "<matplotlib.figure.Figure at 0x1a1db09198>"
      ]
     },
     "metadata": {},
     "output_type": "display_data"
    }
   ],
   "source": [
    "immwagedf2.plot(kind='scatter', x='Not Citizen Pop', y='Total Median Household Income')"
   ]
  },
  {
   "cell_type": "code",
   "execution_count": 183,
   "metadata": {
    "collapsed": true
   },
   "outputs": [],
   "source": [
    "statesdf = pd.read_excel('/Users/davidmclaughlin/Documents/Data_Bootcamp/statedata.xlsx')"
   ]
  },
  {
   "cell_type": "code",
   "execution_count": 184,
   "metadata": {},
   "outputs": [
    {
     "data": {
      "text/plain": [
       "pandas.core.frame.DataFrame"
      ]
     },
     "execution_count": 184,
     "metadata": {},
     "output_type": "execute_result"
    }
   ],
   "source": [
    "type(statesdf)"
   ]
  },
  {
   "cell_type": "code",
   "execution_count": 185,
   "metadata": {
    "collapsed": true
   },
   "outputs": [],
   "source": [
    "statesdf = statesdf.loc[['Foreign born pct', 'Median household income (dollars)']]"
   ]
  },
  {
   "cell_type": "code",
   "execution_count": 186,
   "metadata": {},
   "outputs": [
    {
     "data": {
      "text/html": [
       "<div>\n",
       "<style>\n",
       "    .dataframe thead tr:only-child th {\n",
       "        text-align: right;\n",
       "    }\n",
       "\n",
       "    .dataframe thead th {\n",
       "        text-align: left;\n",
       "    }\n",
       "\n",
       "    .dataframe tbody tr th {\n",
       "        vertical-align: top;\n",
       "    }\n",
       "</style>\n",
       "<table border=\"1\" class=\"dataframe\">\n",
       "  <thead>\n",
       "    <tr style=\"text-align: right;\">\n",
       "      <th></th>\n",
       "      <th>Alabama</th>\n",
       "      <th>Alaska</th>\n",
       "      <th>Arizona</th>\n",
       "      <th>Arkansas</th>\n",
       "      <th>California</th>\n",
       "      <th>Colorado</th>\n",
       "      <th>Connecticut</th>\n",
       "      <th>Delaware</th>\n",
       "      <th>District of Columbia</th>\n",
       "      <th>Florida</th>\n",
       "      <th>...</th>\n",
       "      <th>South Dakota</th>\n",
       "      <th>Tennessee</th>\n",
       "      <th>Texas</th>\n",
       "      <th>Utah</th>\n",
       "      <th>Vermont</th>\n",
       "      <th>Virginia</th>\n",
       "      <th>Washington</th>\n",
       "      <th>West Virginia</th>\n",
       "      <th>Wisconsin</th>\n",
       "      <th>Wyoming</th>\n",
       "    </tr>\n",
       "  </thead>\n",
       "  <tbody>\n",
       "    <tr>\n",
       "      <th>Foreign born pct</th>\n",
       "      <td>0.03</td>\n",
       "      <td>0.08</td>\n",
       "      <td>0.13</td>\n",
       "      <td>0.05</td>\n",
       "      <td>0.27</td>\n",
       "      <td>0.1</td>\n",
       "      <td>0.14</td>\n",
       "      <td>0.09</td>\n",
       "      <td>0.13</td>\n",
       "      <td>0.21</td>\n",
       "      <td>...</td>\n",
       "      <td>0.04</td>\n",
       "      <td>0.05</td>\n",
       "      <td>0.17</td>\n",
       "      <td>0.08</td>\n",
       "      <td>0.05</td>\n",
       "      <td>0.12</td>\n",
       "      <td>0.14</td>\n",
       "      <td>0.02</td>\n",
       "      <td>0.05</td>\n",
       "      <td>0.03</td>\n",
       "    </tr>\n",
       "    <tr>\n",
       "      <th>Median household income (dollars)</th>\n",
       "      <td>46257.00</td>\n",
       "      <td>76440.00</td>\n",
       "      <td>53558.00</td>\n",
       "      <td>44334.00</td>\n",
       "      <td>67739.00</td>\n",
       "      <td>65685.0</td>\n",
       "      <td>73433.00</td>\n",
       "      <td>61757.00</td>\n",
       "      <td>75506.00</td>\n",
       "      <td>50860.00</td>\n",
       "      <td>...</td>\n",
       "      <td>54467.00</td>\n",
       "      <td>48547.00</td>\n",
       "      <td>56565.00</td>\n",
       "      <td>65977.00</td>\n",
       "      <td>57677.00</td>\n",
       "      <td>68114.00</td>\n",
       "      <td>67106.00</td>\n",
       "      <td>43385.00</td>\n",
       "      <td>56811.00</td>\n",
       "      <td>59882.00</td>\n",
       "    </tr>\n",
       "  </tbody>\n",
       "</table>\n",
       "<p>2 rows × 51 columns</p>\n",
       "</div>"
      ],
      "text/plain": [
       "                                    Alabama    Alaska   Arizona  Arkansas  \\\n",
       "Foreign born pct                       0.03      0.08      0.13      0.05   \n",
       "Median household income (dollars)  46257.00  76440.00  53558.00  44334.00   \n",
       "\n",
       "                                   California  Colorado  Connecticut  \\\n",
       "Foreign born pct                         0.27       0.1         0.14   \n",
       "Median household income (dollars)    67739.00   65685.0     73433.00   \n",
       "\n",
       "                                   Delaware  District of Columbia   Florida  \\\n",
       "Foreign born pct                       0.09                  0.13      0.21   \n",
       "Median household income (dollars)  61757.00              75506.00  50860.00   \n",
       "\n",
       "                                     ...     South Dakota  Tennessee  \\\n",
       "Foreign born pct                     ...             0.04       0.05   \n",
       "Median household income (dollars)    ...         54467.00   48547.00   \n",
       "\n",
       "                                      Texas      Utah   Vermont  Virginia  \\\n",
       "Foreign born pct                       0.17      0.08      0.05      0.12   \n",
       "Median household income (dollars)  56565.00  65977.00  57677.00  68114.00   \n",
       "\n",
       "                                   Washington  West Virginia  Wisconsin  \\\n",
       "Foreign born pct                         0.14           0.02       0.05   \n",
       "Median household income (dollars)    67106.00       43385.00   56811.00   \n",
       "\n",
       "                                    Wyoming  \n",
       "Foreign born pct                       0.03  \n",
       "Median household income (dollars)  59882.00  \n",
       "\n",
       "[2 rows x 51 columns]"
      ]
     },
     "execution_count": 186,
     "metadata": {},
     "output_type": "execute_result"
    }
   ],
   "source": [
    "statesdf"
   ]
  },
  {
   "cell_type": "code",
   "execution_count": 187,
   "metadata": {},
   "outputs": [
    {
     "data": {
      "text/html": [
       "<div>\n",
       "<style>\n",
       "    .dataframe thead tr:only-child th {\n",
       "        text-align: right;\n",
       "    }\n",
       "\n",
       "    .dataframe thead th {\n",
       "        text-align: left;\n",
       "    }\n",
       "\n",
       "    .dataframe tbody tr th {\n",
       "        vertical-align: top;\n",
       "    }\n",
       "</style>\n",
       "<table border=\"1\" class=\"dataframe\">\n",
       "  <thead>\n",
       "    <tr style=\"text-align: right;\">\n",
       "      <th></th>\n",
       "      <th>Foreign born pct</th>\n",
       "      <th>Median household income (dollars)</th>\n",
       "    </tr>\n",
       "  </thead>\n",
       "  <tbody>\n",
       "    <tr>\n",
       "      <th>Alabama</th>\n",
       "      <td>0.03</td>\n",
       "      <td>46257.0</td>\n",
       "    </tr>\n",
       "    <tr>\n",
       "      <th>Alaska</th>\n",
       "      <td>0.08</td>\n",
       "      <td>76440.0</td>\n",
       "    </tr>\n",
       "    <tr>\n",
       "      <th>Arizona</th>\n",
       "      <td>0.13</td>\n",
       "      <td>53558.0</td>\n",
       "    </tr>\n",
       "    <tr>\n",
       "      <th>Arkansas</th>\n",
       "      <td>0.05</td>\n",
       "      <td>44334.0</td>\n",
       "    </tr>\n",
       "    <tr>\n",
       "      <th>California</th>\n",
       "      <td>0.27</td>\n",
       "      <td>67739.0</td>\n",
       "    </tr>\n",
       "    <tr>\n",
       "      <th>Colorado</th>\n",
       "      <td>0.10</td>\n",
       "      <td>65685.0</td>\n",
       "    </tr>\n",
       "    <tr>\n",
       "      <th>Connecticut</th>\n",
       "      <td>0.14</td>\n",
       "      <td>73433.0</td>\n",
       "    </tr>\n",
       "    <tr>\n",
       "      <th>Delaware</th>\n",
       "      <td>0.09</td>\n",
       "      <td>61757.0</td>\n",
       "    </tr>\n",
       "    <tr>\n",
       "      <th>District of Columbia</th>\n",
       "      <td>0.13</td>\n",
       "      <td>75506.0</td>\n",
       "    </tr>\n",
       "    <tr>\n",
       "      <th>Florida</th>\n",
       "      <td>0.21</td>\n",
       "      <td>50860.0</td>\n",
       "    </tr>\n",
       "    <tr>\n",
       "      <th>Georgia</th>\n",
       "      <td>0.10</td>\n",
       "      <td>53559.0</td>\n",
       "    </tr>\n",
       "    <tr>\n",
       "      <th>Hawaii</th>\n",
       "      <td>0.18</td>\n",
       "      <td>74511.0</td>\n",
       "    </tr>\n",
       "    <tr>\n",
       "      <th>Idaho</th>\n",
       "      <td>0.06</td>\n",
       "      <td>51807.0</td>\n",
       "    </tr>\n",
       "    <tr>\n",
       "      <th>Illinois</th>\n",
       "      <td>0.14</td>\n",
       "      <td>60960.0</td>\n",
       "    </tr>\n",
       "    <tr>\n",
       "      <th>Indiana</th>\n",
       "      <td>0.05</td>\n",
       "      <td>52314.0</td>\n",
       "    </tr>\n",
       "    <tr>\n",
       "      <th>Iowa</th>\n",
       "      <td>0.05</td>\n",
       "      <td>56247.0</td>\n",
       "    </tr>\n",
       "    <tr>\n",
       "      <th>Kansas</th>\n",
       "      <td>0.07</td>\n",
       "      <td>54935.0</td>\n",
       "    </tr>\n",
       "    <tr>\n",
       "      <th>Kentucky</th>\n",
       "      <td>0.04</td>\n",
       "      <td>46659.0</td>\n",
       "    </tr>\n",
       "    <tr>\n",
       "      <th>Louisiana</th>\n",
       "      <td>0.04</td>\n",
       "      <td>45146.0</td>\n",
       "    </tr>\n",
       "    <tr>\n",
       "      <th>Maine</th>\n",
       "      <td>0.04</td>\n",
       "      <td>53079.0</td>\n",
       "    </tr>\n",
       "    <tr>\n",
       "      <th>Maryland</th>\n",
       "      <td>0.15</td>\n",
       "      <td>78945.0</td>\n",
       "    </tr>\n",
       "    <tr>\n",
       "      <th>Massachusetts</th>\n",
       "      <td>0.16</td>\n",
       "      <td>75297.0</td>\n",
       "    </tr>\n",
       "    <tr>\n",
       "      <th>Michigan</th>\n",
       "      <td>0.07</td>\n",
       "      <td>52492.0</td>\n",
       "    </tr>\n",
       "    <tr>\n",
       "      <th>Minnesota</th>\n",
       "      <td>0.08</td>\n",
       "      <td>65599.0</td>\n",
       "    </tr>\n",
       "    <tr>\n",
       "      <th>Mississippi</th>\n",
       "      <td>0.02</td>\n",
       "      <td>41754.0</td>\n",
       "    </tr>\n",
       "    <tr>\n",
       "      <th>Missouri</th>\n",
       "      <td>0.04</td>\n",
       "      <td>51746.0</td>\n",
       "    </tr>\n",
       "    <tr>\n",
       "      <th>Montana</th>\n",
       "      <td>0.02</td>\n",
       "      <td>50027.0</td>\n",
       "    </tr>\n",
       "    <tr>\n",
       "      <th>Nebraska</th>\n",
       "      <td>0.07</td>\n",
       "      <td>56927.0</td>\n",
       "    </tr>\n",
       "    <tr>\n",
       "      <th>Nevada</th>\n",
       "      <td>0.20</td>\n",
       "      <td>55180.0</td>\n",
       "    </tr>\n",
       "    <tr>\n",
       "      <th>New Hampshire</th>\n",
       "      <td>0.06</td>\n",
       "      <td>70936.0</td>\n",
       "    </tr>\n",
       "    <tr>\n",
       "      <th>New Jersey</th>\n",
       "      <td>0.23</td>\n",
       "      <td>76126.0</td>\n",
       "    </tr>\n",
       "    <tr>\n",
       "      <th>New Mexico</th>\n",
       "      <td>0.10</td>\n",
       "      <td>46748.0</td>\n",
       "    </tr>\n",
       "    <tr>\n",
       "      <th>New York</th>\n",
       "      <td>0.23</td>\n",
       "      <td>62909.0</td>\n",
       "    </tr>\n",
       "    <tr>\n",
       "      <th>North Carolina</th>\n",
       "      <td>0.08</td>\n",
       "      <td>50584.0</td>\n",
       "    </tr>\n",
       "    <tr>\n",
       "      <th>North Dakota</th>\n",
       "      <td>0.03</td>\n",
       "      <td>60656.0</td>\n",
       "    </tr>\n",
       "    <tr>\n",
       "      <th>Ohio</th>\n",
       "      <td>0.04</td>\n",
       "      <td>52334.0</td>\n",
       "    </tr>\n",
       "    <tr>\n",
       "      <th>Oklahoma</th>\n",
       "      <td>0.06</td>\n",
       "      <td>49176.0</td>\n",
       "    </tr>\n",
       "    <tr>\n",
       "      <th>Oregon</th>\n",
       "      <td>0.10</td>\n",
       "      <td>57532.0</td>\n",
       "    </tr>\n",
       "    <tr>\n",
       "      <th>Pennsylvania</th>\n",
       "      <td>0.07</td>\n",
       "      <td>56907.0</td>\n",
       "    </tr>\n",
       "    <tr>\n",
       "      <th>Rhode Island</th>\n",
       "      <td>0.14</td>\n",
       "      <td>60596.0</td>\n",
       "    </tr>\n",
       "    <tr>\n",
       "      <th>South Carolina</th>\n",
       "      <td>0.05</td>\n",
       "      <td>49501.0</td>\n",
       "    </tr>\n",
       "    <tr>\n",
       "      <th>South Dakota</th>\n",
       "      <td>0.04</td>\n",
       "      <td>54467.0</td>\n",
       "    </tr>\n",
       "    <tr>\n",
       "      <th>Tennessee</th>\n",
       "      <td>0.05</td>\n",
       "      <td>48547.0</td>\n",
       "    </tr>\n",
       "    <tr>\n",
       "      <th>Texas</th>\n",
       "      <td>0.17</td>\n",
       "      <td>56565.0</td>\n",
       "    </tr>\n",
       "    <tr>\n",
       "      <th>Utah</th>\n",
       "      <td>0.08</td>\n",
       "      <td>65977.0</td>\n",
       "    </tr>\n",
       "    <tr>\n",
       "      <th>Vermont</th>\n",
       "      <td>0.05</td>\n",
       "      <td>57677.0</td>\n",
       "    </tr>\n",
       "    <tr>\n",
       "      <th>Virginia</th>\n",
       "      <td>0.12</td>\n",
       "      <td>68114.0</td>\n",
       "    </tr>\n",
       "    <tr>\n",
       "      <th>Washington</th>\n",
       "      <td>0.14</td>\n",
       "      <td>67106.0</td>\n",
       "    </tr>\n",
       "    <tr>\n",
       "      <th>West Virginia</th>\n",
       "      <td>0.02</td>\n",
       "      <td>43385.0</td>\n",
       "    </tr>\n",
       "    <tr>\n",
       "      <th>Wisconsin</th>\n",
       "      <td>0.05</td>\n",
       "      <td>56811.0</td>\n",
       "    </tr>\n",
       "    <tr>\n",
       "      <th>Wyoming</th>\n",
       "      <td>0.03</td>\n",
       "      <td>59882.0</td>\n",
       "    </tr>\n",
       "  </tbody>\n",
       "</table>\n",
       "</div>"
      ],
      "text/plain": [
       "                      Foreign born pct  Median household income (dollars)\n",
       "Alabama                           0.03                            46257.0\n",
       "Alaska                            0.08                            76440.0\n",
       "Arizona                           0.13                            53558.0\n",
       "Arkansas                          0.05                            44334.0\n",
       "California                        0.27                            67739.0\n",
       "Colorado                          0.10                            65685.0\n",
       "Connecticut                       0.14                            73433.0\n",
       "Delaware                          0.09                            61757.0\n",
       "District of Columbia              0.13                            75506.0\n",
       "Florida                           0.21                            50860.0\n",
       "Georgia                           0.10                            53559.0\n",
       "Hawaii                            0.18                            74511.0\n",
       "Idaho                             0.06                            51807.0\n",
       "Illinois                          0.14                            60960.0\n",
       "Indiana                           0.05                            52314.0\n",
       "Iowa                              0.05                            56247.0\n",
       "Kansas                            0.07                            54935.0\n",
       "Kentucky                          0.04                            46659.0\n",
       "Louisiana                         0.04                            45146.0\n",
       "Maine                             0.04                            53079.0\n",
       "Maryland                          0.15                            78945.0\n",
       "Massachusetts                     0.16                            75297.0\n",
       "Michigan                          0.07                            52492.0\n",
       "Minnesota                         0.08                            65599.0\n",
       "Mississippi                       0.02                            41754.0\n",
       "Missouri                          0.04                            51746.0\n",
       "Montana                           0.02                            50027.0\n",
       "Nebraska                          0.07                            56927.0\n",
       "Nevada                            0.20                            55180.0\n",
       "New Hampshire                     0.06                            70936.0\n",
       "New Jersey                        0.23                            76126.0\n",
       "New Mexico                        0.10                            46748.0\n",
       "New York                          0.23                            62909.0\n",
       "North Carolina                    0.08                            50584.0\n",
       "North Dakota                      0.03                            60656.0\n",
       "Ohio                              0.04                            52334.0\n",
       "Oklahoma                          0.06                            49176.0\n",
       "Oregon                            0.10                            57532.0\n",
       "Pennsylvania                      0.07                            56907.0\n",
       "Rhode Island                      0.14                            60596.0\n",
       "South Carolina                    0.05                            49501.0\n",
       "South Dakota                      0.04                            54467.0\n",
       "Tennessee                         0.05                            48547.0\n",
       "Texas                             0.17                            56565.0\n",
       "Utah                              0.08                            65977.0\n",
       "Vermont                           0.05                            57677.0\n",
       "Virginia                          0.12                            68114.0\n",
       "Washington                        0.14                            67106.0\n",
       "West Virginia                     0.02                            43385.0\n",
       "Wisconsin                         0.05                            56811.0\n",
       "Wyoming                           0.03                            59882.0"
      ]
     },
     "execution_count": 187,
     "metadata": {},
     "output_type": "execute_result"
    }
   ],
   "source": [
    "statesdfT = statesdf.T\n",
    "statesdfT"
   ]
  },
  {
   "cell_type": "code",
   "execution_count": 189,
   "metadata": {},
   "outputs": [
    {
     "data": {
      "text/plain": [
       "<matplotlib.axes._subplots.AxesSubplot at 0x1a1f2dae48>"
      ]
     },
     "execution_count": 189,
     "metadata": {},
     "output_type": "execute_result"
    },
    {
     "data": {
      "image/png": "[encoded data removed]",
      "text/plain": [
       "<matplotlib.figure.Figure at 0x1a1f2aae80>"
      ]
     },
     "metadata": {},
     "output_type": "display_data"
    }
   ],
   "source": [
    "statesdfT.plot(kind='scatter', x='Foreign born pct', y='Median household income (dollars)', ylim = 0)"
   ]
  },
  {
   "cell_type": "code",
   "execution_count": null,
   "metadata": {
    "collapsed": true
   },
   "outputs": [],
   "source": []
  }
 ],
 "metadata": {
  "kernelspec": {
   "display_name": "Python 3",
   "language": "python",
   "name": "python3"
  },
  "language_info": {
   "codemirror_mode": {
    "name": "ipython",
    "version": 3
   },
   "file_extension": ".py",
   "mimetype": "text/x-python",
   "name": "python",
   "nbconvert_exporter": "python",
   "pygments_lexer": "ipython3",
   "version": "3.6.2"
  }
 },
 "nbformat": 4,
 "nbformat_minor": 2
}
