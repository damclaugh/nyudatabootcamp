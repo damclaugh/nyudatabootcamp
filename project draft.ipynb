{
 "cells": [
  {
   "cell_type": "markdown",
   "metadata": {},
   "source": [
    "# Economic Characteristics of Immigrants in the U.S.\n",
    "By Christopher Choi and David McLaughlin  \n",
    "New York University Stern School of Business  \n",
    "December 2017  \n",
    "\n",
    "## Introduction\n",
    "We analyzed data from the U.S. Census Bureau to understand the demographic and economic attributes of the nation's immigrant population and whether there is evidence that immigrants have any positive or negative impact on the U.S. economy and workers. We found that during the last two decades immigrants have become a larger share of the general population and the labor force. They also make up a disproportionate share of the labor force relative to their share of the wider population. According to state-level data on employment and income, there is no relationship between the number of immigrants in a state and the unemployment rate. The data does indicate, however, a positive relationship between a state's immigrant population and its median household income.\n"
   ]
  },
  {
   "cell_type": "code",
   "execution_count": 97,
   "metadata": {
    "collapsed": true
   },
   "outputs": [],
   "source": [
    "import pandas as pd\n",
    "import matplotlib as mpl \n",
    "import matplotlib.pyplot as plt\n",
    "import numpy as np\n",
    "import matplotlib.ticker as ticker\n",
    "\n",
    "%matplotlib inline"
   ]
  },
  {
   "cell_type": "markdown",
   "metadata": {},
   "source": [
    "## Part I  \n",
    "We first examined the growth of the immigrant population in the U.S. Immigrants - both naturalized citizens and non-citizens -- made up about 13 percent of the U.S. population in 2014, the latest year for which data is available. That is up from 9 percent in the mid-1990s. The growth was driven by naturalized citizens. The percentage of non-citizens as a share of the population remained largely flat. From 1995 to 2014, the immigrant population grew far faster than that of native-born Americans. The number of immigrants increased 66 percent, while the native-born population grew 15 percent."
   ]
  },
  {
   "cell_type": "code",
   "execution_count": 98,
   "metadata": {
    "collapsed": true
   },
   "outputs": [],
   "source": [
    "immpopdf = pd.read_excel('/Users/davidmclaughlin/Documents/Data_Bootcamp/immigrantpoptotals.xlsx')"
   ]
  },
  {
   "cell_type": "code",
   "execution_count": 99,
   "metadata": {},
   "outputs": [
    {
     "data": {
      "text/html": [
       "<div>\n",
       "<style>\n",
       "    .dataframe thead tr:only-child th {\n",
       "        text-align: right;\n",
       "    }\n",
       "\n",
       "    .dataframe thead th {\n",
       "        text-align: left;\n",
       "    }\n",
       "\n",
       "    .dataframe tbody tr th {\n",
       "        vertical-align: top;\n",
       "    }\n",
       "</style>\n",
       "<table border=\"1\" class=\"dataframe\">\n",
       "  <thead>\n",
       "    <tr style=\"text-align: right;\">\n",
       "      <th></th>\n",
       "      <th>Year</th>\n",
       "      <th>Total</th>\n",
       "      <th>Native</th>\n",
       "      <th>Naturalized Citizen</th>\n",
       "      <th>Not Citizen</th>\n",
       "      <th>Immigrant Total</th>\n",
       "      <th>Native Pct</th>\n",
       "      <th>Immigrant Pct</th>\n",
       "      <th>Not Citizen Pct</th>\n",
       "    </tr>\n",
       "  </thead>\n",
       "  <tbody>\n",
       "    <tr>\n",
       "      <th>0</th>\n",
       "      <td>2014</td>\n",
       "      <td>313401</td>\n",
       "      <td>272658</td>\n",
       "      <td>19134</td>\n",
       "      <td>21609</td>\n",
       "      <td>40743</td>\n",
       "      <td>86.999722</td>\n",
       "      <td>13.000278</td>\n",
       "      <td>6.895000</td>\n",
       "    </tr>\n",
       "    <tr>\n",
       "      <th>1</th>\n",
       "      <td>2013</td>\n",
       "      <td>311116</td>\n",
       "      <td>271010</td>\n",
       "      <td>18200</td>\n",
       "      <td>21906</td>\n",
       "      <td>40106</td>\n",
       "      <td>87.108988</td>\n",
       "      <td>12.891012</td>\n",
       "      <td>7.041104</td>\n",
       "    </tr>\n",
       "    <tr>\n",
       "      <th>2</th>\n",
       "      <td>2012</td>\n",
       "      <td>308827</td>\n",
       "      <td>268851</td>\n",
       "      <td>17934</td>\n",
       "      <td>22042</td>\n",
       "      <td>39976</td>\n",
       "      <td>87.055536</td>\n",
       "      <td>12.944464</td>\n",
       "      <td>7.137329</td>\n",
       "    </tr>\n",
       "    <tr>\n",
       "      <th>3</th>\n",
       "      <td>2011</td>\n",
       "      <td>306110</td>\n",
       "      <td>267884</td>\n",
       "      <td>16801</td>\n",
       "      <td>21424</td>\n",
       "      <td>38225</td>\n",
       "      <td>87.512332</td>\n",
       "      <td>12.487341</td>\n",
       "      <td>6.998791</td>\n",
       "    </tr>\n",
       "    <tr>\n",
       "      <th>4</th>\n",
       "      <td>2010</td>\n",
       "      <td>304280</td>\n",
       "      <td>266674</td>\n",
       "      <td>16024</td>\n",
       "      <td>21581</td>\n",
       "      <td>37605</td>\n",
       "      <td>87.640989</td>\n",
       "      <td>12.358683</td>\n",
       "      <td>7.092481</td>\n",
       "    </tr>\n",
       "    <tr>\n",
       "      <th>5</th>\n",
       "      <td>2009</td>\n",
       "      <td>301483</td>\n",
       "      <td>264733</td>\n",
       "      <td>15475</td>\n",
       "      <td>21274</td>\n",
       "      <td>36749</td>\n",
       "      <td>87.810258</td>\n",
       "      <td>12.189410</td>\n",
       "      <td>7.056451</td>\n",
       "    </tr>\n",
       "    <tr>\n",
       "      <th>6</th>\n",
       "      <td>2008</td>\n",
       "      <td>299106</td>\n",
       "      <td>261842</td>\n",
       "      <td>15050</td>\n",
       "      <td>22214</td>\n",
       "      <td>37264</td>\n",
       "      <td>87.541540</td>\n",
       "      <td>12.458460</td>\n",
       "      <td>7.426799</td>\n",
       "    </tr>\n",
       "    <tr>\n",
       "      <th>7</th>\n",
       "      <td>2007</td>\n",
       "      <td>296824</td>\n",
       "      <td>259545</td>\n",
       "      <td>14538</td>\n",
       "      <td>22741</td>\n",
       "      <td>37279</td>\n",
       "      <td>87.440706</td>\n",
       "      <td>12.559294</td>\n",
       "      <td>7.661442</td>\n",
       "    </tr>\n",
       "    <tr>\n",
       "      <th>8</th>\n",
       "      <td>2006</td>\n",
       "      <td>293834</td>\n",
       "      <td>258175</td>\n",
       "      <td>13884</td>\n",
       "      <td>21775</td>\n",
       "      <td>35659</td>\n",
       "      <td>87.864236</td>\n",
       "      <td>12.135764</td>\n",
       "      <td>7.410647</td>\n",
       "    </tr>\n",
       "    <tr>\n",
       "      <th>9</th>\n",
       "      <td>2005</td>\n",
       "      <td>291166</td>\n",
       "      <td>255952</td>\n",
       "      <td>13507</td>\n",
       "      <td>21707</td>\n",
       "      <td>35214</td>\n",
       "      <td>87.905868</td>\n",
       "      <td>12.094132</td>\n",
       "      <td>7.455197</td>\n",
       "    </tr>\n",
       "    <tr>\n",
       "      <th>10</th>\n",
       "      <td>2004</td>\n",
       "      <td>288280</td>\n",
       "      <td>254037</td>\n",
       "      <td>13128</td>\n",
       "      <td>21116</td>\n",
       "      <td>34244</td>\n",
       "      <td>88.121618</td>\n",
       "      <td>11.878729</td>\n",
       "      <td>7.324823</td>\n",
       "    </tr>\n",
       "    <tr>\n",
       "      <th>11</th>\n",
       "      <td>2003</td>\n",
       "      <td>285933</td>\n",
       "      <td>252463</td>\n",
       "      <td>12837</td>\n",
       "      <td>20634</td>\n",
       "      <td>33471</td>\n",
       "      <td>88.294461</td>\n",
       "      <td>11.705889</td>\n",
       "      <td>7.216376</td>\n",
       "    </tr>\n",
       "    <tr>\n",
       "      <th>12</th>\n",
       "      <td>2002</td>\n",
       "      <td>282082</td>\n",
       "      <td>249629</td>\n",
       "      <td>11962</td>\n",
       "      <td>20491</td>\n",
       "      <td>32453</td>\n",
       "      <td>88.495189</td>\n",
       "      <td>11.504811</td>\n",
       "      <td>7.264200</td>\n",
       "    </tr>\n",
       "    <tr>\n",
       "      <th>13</th>\n",
       "      <td>2001</td>\n",
       "      <td>279517</td>\n",
       "      <td>247706</td>\n",
       "      <td>11785</td>\n",
       "      <td>20026</td>\n",
       "      <td>31811</td>\n",
       "      <td>88.619297</td>\n",
       "      <td>11.380703</td>\n",
       "      <td>7.164502</td>\n",
       "    </tr>\n",
       "    <tr>\n",
       "      <th>14</th>\n",
       "      <td>2000</td>\n",
       "      <td>276804</td>\n",
       "      <td>246819</td>\n",
       "      <td>11067</td>\n",
       "      <td>18918</td>\n",
       "      <td>29985</td>\n",
       "      <td>89.167425</td>\n",
       "      <td>10.832575</td>\n",
       "      <td>6.834439</td>\n",
       "    </tr>\n",
       "    <tr>\n",
       "      <th>15</th>\n",
       "      <td>1999</td>\n",
       "      <td>271743</td>\n",
       "      <td>245295</td>\n",
       "      <td>9868</td>\n",
       "      <td>16579</td>\n",
       "      <td>26447</td>\n",
       "      <td>90.267275</td>\n",
       "      <td>9.732357</td>\n",
       "      <td>6.100985</td>\n",
       "    </tr>\n",
       "    <tr>\n",
       "      <th>16</th>\n",
       "      <td>1998</td>\n",
       "      <td>269094</td>\n",
       "      <td>242813</td>\n",
       "      <td>9739</td>\n",
       "      <td>16542</td>\n",
       "      <td>26281</td>\n",
       "      <td>90.233524</td>\n",
       "      <td>9.766476</td>\n",
       "      <td>6.147294</td>\n",
       "    </tr>\n",
       "    <tr>\n",
       "      <th>17</th>\n",
       "      <td>1997</td>\n",
       "      <td>266792</td>\n",
       "      <td>241014</td>\n",
       "      <td>9043</td>\n",
       "      <td>16736</td>\n",
       "      <td>25779</td>\n",
       "      <td>90.337791</td>\n",
       "      <td>9.662584</td>\n",
       "      <td>6.273052</td>\n",
       "    </tr>\n",
       "    <tr>\n",
       "      <th>18</th>\n",
       "      <td>1996</td>\n",
       "      <td>264314</td>\n",
       "      <td>239757</td>\n",
       "      <td>7904</td>\n",
       "      <td>16653</td>\n",
       "      <td>24557</td>\n",
       "      <td>90.709157</td>\n",
       "      <td>9.290843</td>\n",
       "      <td>6.300461</td>\n",
       "    </tr>\n",
       "    <tr>\n",
       "      <th>19</th>\n",
       "      <td>1995</td>\n",
       "      <td>262107</td>\n",
       "      <td>237614</td>\n",
       "      <td>7601</td>\n",
       "      <td>16892</td>\n",
       "      <td>24493</td>\n",
       "      <td>90.655343</td>\n",
       "      <td>9.344657</td>\n",
       "      <td>6.444696</td>\n",
       "    </tr>\n",
       "  </tbody>\n",
       "</table>\n",
       "</div>"
      ],
      "text/plain": [
       "    Year   Total  Native  Naturalized Citizen  Not Citizen  Immigrant Total  \\\n",
       "0   2014  313401  272658                19134        21609            40743   \n",
       "1   2013  311116  271010                18200        21906            40106   \n",
       "2   2012  308827  268851                17934        22042            39976   \n",
       "3   2011  306110  267884                16801        21424            38225   \n",
       "4   2010  304280  266674                16024        21581            37605   \n",
       "5   2009  301483  264733                15475        21274            36749   \n",
       "6   2008  299106  261842                15050        22214            37264   \n",
       "7   2007  296824  259545                14538        22741            37279   \n",
       "8   2006  293834  258175                13884        21775            35659   \n",
       "9   2005  291166  255952                13507        21707            35214   \n",
       "10  2004  288280  254037                13128        21116            34244   \n",
       "11  2003  285933  252463                12837        20634            33471   \n",
       "12  2002  282082  249629                11962        20491            32453   \n",
       "13  2001  279517  247706                11785        20026            31811   \n",
       "14  2000  276804  246819                11067        18918            29985   \n",
       "15  1999  271743  245295                 9868        16579            26447   \n",
       "16  1998  269094  242813                 9739        16542            26281   \n",
       "17  1997  266792  241014                 9043        16736            25779   \n",
       "18  1996  264314  239757                 7904        16653            24557   \n",
       "19  1995  262107  237614                 7601        16892            24493   \n",
       "\n",
       "    Native Pct  Immigrant Pct  Not Citizen Pct  \n",
       "0    86.999722      13.000278         6.895000  \n",
       "1    87.108988      12.891012         7.041104  \n",
       "2    87.055536      12.944464         7.137329  \n",
       "3    87.512332      12.487341         6.998791  \n",
       "4    87.640989      12.358683         7.092481  \n",
       "5    87.810258      12.189410         7.056451  \n",
       "6    87.541540      12.458460         7.426799  \n",
       "7    87.440706      12.559294         7.661442  \n",
       "8    87.864236      12.135764         7.410647  \n",
       "9    87.905868      12.094132         7.455197  \n",
       "10   88.121618      11.878729         7.324823  \n",
       "11   88.294461      11.705889         7.216376  \n",
       "12   88.495189      11.504811         7.264200  \n",
       "13   88.619297      11.380703         7.164502  \n",
       "14   89.167425      10.832575         6.834439  \n",
       "15   90.267275       9.732357         6.100985  \n",
       "16   90.233524       9.766476         6.147294  \n",
       "17   90.337791       9.662584         6.273052  \n",
       "18   90.709157       9.290843         6.300461  \n",
       "19   90.655343       9.344657         6.444696  "
      ]
     },
     "execution_count": 99,
     "metadata": {},
     "output_type": "execute_result"
    }
   ],
   "source": [
    "immpopdf['Immigrant Total'] = immpopdf['Naturalized Citizen'] + immpopdf['Not Citizen']\n",
    "immpopdf['Native Pct'] = (immpopdf['Native']/immpopdf['Total'])*100\n",
    "immpopdf['Immigrant Pct'] = (immpopdf['Immigrant Total']/immpopdf['Total'])*100\n",
    "immpopdf['Not Citizen Pct'] = (immpopdf['Not Citizen']/immpopdf['Total'])*100\n",
    "immpopdf"
   ]
  },
  {
   "cell_type": "code",
   "execution_count": 100,
   "metadata": {
    "collapsed": true
   },
   "outputs": [],
   "source": [
    "immpopchartdf1 = immpopdf[['Year', 'Immigrant Pct']]\n",
    "immpopchartdf1 = immpopchartdf1.set_index('Year')\n",
    "immpopchartdf1 = immpopchartdf1.sort_index(ascending=True, axis=0)"
   ]
  },
  {
   "cell_type": "code",
   "execution_count": 101,
   "metadata": {},
   "outputs": [
    {
     "data": {
      "image/png": "[encoded data removed]",
      "text/plain": [
       "<matplotlib.figure.Figure at 0x11aed9f60>"
      ]
     },
     "metadata": {},
     "output_type": "display_data"
    }
   ],
   "source": [
    "fig, ax = plt.subplots()\n",
    "immpopchartdf1.plot(ax=ax)\n",
    "ax.set_ylim([0,20])\n",
    "ax.set_xlabel('')\n",
    "plt.xticks(np.arange(1995, 2014, 2.0))\n",
    "plt.show()"
   ]
  },
  {
   "cell_type": "code",
   "execution_count": 102,
   "metadata": {
    "collapsed": true
   },
   "outputs": [],
   "source": [
    "immpopchartdf2 = immpopdf[['Year', 'Not Citizen Pct']]\n",
    "immpopchartdf2 = immpopchartdf2.set_index('Year')\n",
    "immpopchartdf2 = immpopchartdf2.sort_index(ascending=True, axis=0)"
   ]
  },
  {
   "cell_type": "code",
   "execution_count": 103,
   "metadata": {},
   "outputs": [
    {
     "data": {
      "image/png": "[encoded data removed]",
      "text/plain": [
       "<matplotlib.figure.Figure at 0x11b10a320>"
      ]
     },
     "metadata": {},
     "output_type": "display_data"
    }
   ],
   "source": [
    "fig, ax = plt.subplots()\n",
    "immpopchartdf2.plot(ax=ax)\n",
    "ax.set_ylim([0,20])\n",
    "ax.set_xlabel('')\n",
    "plt.xticks(np.arange(1995, 2014, 2.0))\n",
    "plt.show()"
   ]
  },
  {
   "cell_type": "code",
   "execution_count": 104,
   "metadata": {
    "collapsed": true
   },
   "outputs": [],
   "source": [
    "immpopchartdf3 = immpopdf[['Year', 'Naturalized Citizen', 'Not Citizen']]\n",
    "immpopchartdf3 = immpopchartdf3.set_index('Year')\n",
    "immpopchartdf3 = immpopchartdf3.sort_index(ascending=True, axis=0)"
   ]
  },
  {
   "cell_type": "code",
   "execution_count": 105,
   "metadata": {},
   "outputs": [
    {
     "data": {
      "image/png": "[encoded data removed]",
      "text/plain": [
       "<matplotlib.figure.Figure at 0x11b55cc50>"
      ]
     },
     "metadata": {},
     "output_type": "display_data"
    }
   ],
   "source": [
    "fig, ax = plt.subplots()\n",
    "immpopchartdf3.plot(ax=ax)\n",
    "ax.set_ylim([0,25000])\n",
    "ax.set_xlabel('')\n",
    "plt.xticks(np.arange(1995, 2014, 2.0))\n",
    "plt.show()"
   ]
  },
  {
   "cell_type": "code",
   "execution_count": 49,
   "metadata": {},
   "outputs": [
    {
     "data": {
      "text/plain": [
       "0.14748289242216367"
      ]
     },
     "execution_count": 49,
     "metadata": {},
     "output_type": "execute_result"
    }
   ],
   "source": [
    "natimmdf = immpopdf[['Native', 'Immigrant Total']]\n",
    "natpctchange = (natimmdf.iloc[0]['Native']-natimmdf.iloc[19]['Native'])/natimmdf.iloc[19]['Native']\n",
    "natpctchange"
   ]
  },
  {
   "cell_type": "code",
   "execution_count": 51,
   "metadata": {},
   "outputs": [
    {
     "data": {
      "text/plain": [
       "0.66345486465520764"
      ]
     },
     "execution_count": 51,
     "metadata": {},
     "output_type": "execute_result"
    }
   ],
   "source": [
    "immpctchange = (natimmdf.iloc[0]['Immigrant Total']-natimmdf.iloc[19]['Immigrant Total'])/natimmdf.iloc[19]['Immigrant Total']\n",
    "immpctchange"
   ]
  },
  {
   "cell_type": "markdown",
   "metadata": {},
   "source": [
    "## Part II\n",
    "Next we examined various labor-force characteristics of the immigrant population. From 1996 to 2014, immigrants' share of the labor force relative to native-born workers increased from 11 percent to 17 percent. Most immigrant workers in the U.S. were born in Mexico. Our analysis shows that immigrant workers made up a disproportionately large share of the labor force relative to their share of the overall population. They are effectively working harder as a group. The last chart in this section illustrates this trend."
   ]
  },
  {
   "cell_type": "code",
   "execution_count": 106,
   "metadata": {
    "collapsed": true
   },
   "outputs": [],
   "source": [
    "employstatsdf = pd.read_excel('/Users/davidmclaughlin/Documents/Data_Bootcamp/fbemploystatus19962016.xls')"
   ]
  },
  {
   "cell_type": "code",
   "execution_count": 107,
   "metadata": {},
   "outputs": [
    {
     "data": {
      "text/html": [
       "<div>\n",
       "<style>\n",
       "    .dataframe thead tr:only-child th {\n",
       "        text-align: right;\n",
       "    }\n",
       "\n",
       "    .dataframe thead th {\n",
       "        text-align: left;\n",
       "    }\n",
       "\n",
       "    .dataframe tbody tr th {\n",
       "        vertical-align: top;\n",
       "    }\n",
       "</style>\n",
       "<table border=\"1\" class=\"dataframe\">\n",
       "  <thead>\n",
       "    <tr style=\"text-align: right;\">\n",
       "      <th></th>\n",
       "      <th>Foreign born pct total</th>\n",
       "    </tr>\n",
       "  </thead>\n",
       "  <tbody>\n",
       "    <tr>\n",
       "      <th>1996</th>\n",
       "      <td>0.107605</td>\n",
       "    </tr>\n",
       "    <tr>\n",
       "      <th>1997</th>\n",
       "      <td>0.113091</td>\n",
       "    </tr>\n",
       "    <tr>\n",
       "      <th>1998</th>\n",
       "      <td>0.116886</td>\n",
       "    </tr>\n",
       "    <tr>\n",
       "      <th>1999</th>\n",
       "      <td>0.118514</td>\n",
       "    </tr>\n",
       "    <tr>\n",
       "      <th>2000</th>\n",
       "      <td>0.132982</td>\n",
       "    </tr>\n",
       "    <tr>\n",
       "      <th>2001</th>\n",
       "      <td>0.138248</td>\n",
       "    </tr>\n",
       "    <tr>\n",
       "      <th>2002</th>\n",
       "      <td>0.139987</td>\n",
       "    </tr>\n",
       "    <tr>\n",
       "      <th>2003</th>\n",
       "      <td>0.144134</td>\n",
       "    </tr>\n",
       "    <tr>\n",
       "      <th>2004</th>\n",
       "      <td>0.145406</td>\n",
       "    </tr>\n",
       "    <tr>\n",
       "      <th>2005</th>\n",
       "      <td>0.147616</td>\n",
       "    </tr>\n",
       "    <tr>\n",
       "      <th>2006</th>\n",
       "      <td>0.152865</td>\n",
       "    </tr>\n",
       "    <tr>\n",
       "      <th>2007</th>\n",
       "      <td>0.156697</td>\n",
       "    </tr>\n",
       "    <tr>\n",
       "      <th>2008</th>\n",
       "      <td>0.155963</td>\n",
       "    </tr>\n",
       "    <tr>\n",
       "      <th>2009</th>\n",
       "      <td>0.155221</td>\n",
       "    </tr>\n",
       "    <tr>\n",
       "      <th>2010</th>\n",
       "      <td>0.15827</td>\n",
       "    </tr>\n",
       "    <tr>\n",
       "      <th>2011</th>\n",
       "      <td>0.158778</td>\n",
       "    </tr>\n",
       "    <tr>\n",
       "      <th>2012</th>\n",
       "      <td>0.161484</td>\n",
       "    </tr>\n",
       "    <tr>\n",
       "      <th>2013</th>\n",
       "      <td>0.162997</td>\n",
       "    </tr>\n",
       "    <tr>\n",
       "      <th>2014</th>\n",
       "      <td>0.16505</td>\n",
       "    </tr>\n",
       "    <tr>\n",
       "      <th>2015</th>\n",
       "      <td>0.16711</td>\n",
       "    </tr>\n",
       "    <tr>\n",
       "      <th>2016</th>\n",
       "      <td>0.169304</td>\n",
       "    </tr>\n",
       "  </tbody>\n",
       "</table>\n",
       "</div>"
      ],
      "text/plain": [
       "     Foreign born pct total\n",
       "1996               0.107605\n",
       "1997               0.113091\n",
       "1998               0.116886\n",
       "1999               0.118514\n",
       "2000               0.132982\n",
       "2001               0.138248\n",
       "2002               0.139987\n",
       "2003               0.144134\n",
       "2004               0.145406\n",
       "2005               0.147616\n",
       "2006               0.152865\n",
       "2007               0.156697\n",
       "2008               0.155963\n",
       "2009               0.155221\n",
       "2010                0.15827\n",
       "2011               0.158778\n",
       "2012               0.161484\n",
       "2013               0.162997\n",
       "2014                0.16505\n",
       "2015                0.16711\n",
       "2016               0.169304"
      ]
     },
     "execution_count": 107,
     "metadata": {},
     "output_type": "execute_result"
    }
   ],
   "source": [
    "laborforcedf = employstatsdf.loc[['Foreign born pct total']]\n",
    "laborforcedf = laborforcedf.T\n",
    "laborforcedf"
   ]
  },
  {
   "cell_type": "code",
   "execution_count": 108,
   "metadata": {},
   "outputs": [
    {
     "data": {
      "image/png": "[encoded data removed]",
      "text/plain": [
       "<matplotlib.figure.Figure at 0x11b29d390>"
      ]
     },
     "metadata": {},
     "output_type": "display_data"
    }
   ],
   "source": [
    "fig, ax = plt.subplots()\n",
    "laborforcedf.plot(ax=ax)\n",
    "plt.xticks(np.arange(1996, 2016, 2.0))\n",
    "ax.set_ylim([0,0.20])\n",
    "plt.show()"
   ]
  },
  {
   "cell_type": "code",
   "execution_count": 109,
   "metadata": {
    "collapsed": true
   },
   "outputs": [],
   "source": [
    "dfemploy14 = pd.read_excel('/Users/davidmclaughlin/Documents/Data_Bootcamp/censusemploy2014.xlsx')"
   ]
  },
  {
   "cell_type": "code",
   "execution_count": 110,
   "metadata": {
    "collapsed": true
   },
   "outputs": [],
   "source": [
    "dftotals = dfemploy14.iloc[1][['Asia Total', 'Europe Total', 'Mexico Total', 'Other LatAm Total', 'Other Total']]"
   ]
  },
  {
   "cell_type": "code",
   "execution_count": 111,
   "metadata": {},
   "outputs": [
    {
     "data": {
      "image/png": "[encoded data removed]",
      "text/plain": [
       "<matplotlib.figure.Figure at 0x11b5748d0>"
      ]
     },
     "metadata": {},
     "output_type": "display_data"
    }
   ],
   "source": [
    "fig, ax = plt.subplots()\n",
    "dftotals.plot(ax=ax, kind='bar')\n",
    "plt.show()"
   ]
  },
  {
   "cell_type": "code",
   "execution_count": 112,
   "metadata": {
    "collapsed": true
   },
   "outputs": [],
   "source": [
    "immlfdf = pd.read_excel('/Users/davidmclaughlin/Documents/Data_Bootcamp/immlaborforcestats.xlsx')"
   ]
  },
  {
   "cell_type": "code",
   "execution_count": 113,
   "metadata": {
    "collapsed": true
   },
   "outputs": [],
   "source": [
    "immlfdf['Foreign Born Share Of Labor Force'] = (immlfdf['Foreign Born Labor Force Level']/(immlfdf['Foreign Born Labor Force Level']+\n",
    "                                                immlfdf['Native Born Labor Force Level']))*100"
   ]
  },
  {
   "cell_type": "code",
   "execution_count": 114,
   "metadata": {
    "collapsed": true
   },
   "outputs": [],
   "source": [
    "immlaborsharedf = immlfdf[['Year', 'Foreign Born Share Of Labor Force']]\n",
    "immlaborsharedftrim = immlaborsharedf[0:13]\n",
    "immpctdf = immpopdf[['Year', 'Immigrant Pct']]\n",
    "immpctdftrim = immpctdf[0:13]\n",
    "immcombodf = pd.merge(immlaborsharedftrim,\n",
    "                      immpctdftrim,\n",
    "                      how='left',\n",
    "                      on='Year')"
   ]
  },
  {
   "cell_type": "code",
   "execution_count": 115,
   "metadata": {},
   "outputs": [
    {
     "data": {
      "text/html": [
       "<div>\n",
       "<style>\n",
       "    .dataframe thead tr:only-child th {\n",
       "        text-align: right;\n",
       "    }\n",
       "\n",
       "    .dataframe thead th {\n",
       "        text-align: left;\n",
       "    }\n",
       "\n",
       "    .dataframe tbody tr th {\n",
       "        vertical-align: top;\n",
       "    }\n",
       "</style>\n",
       "<table border=\"1\" class=\"dataframe\">\n",
       "  <thead>\n",
       "    <tr style=\"text-align: right;\">\n",
       "      <th></th>\n",
       "      <th>Year</th>\n",
       "      <th>Foreign Born Share Of Labor Force</th>\n",
       "      <th>Immigrant Pct</th>\n",
       "    </tr>\n",
       "  </thead>\n",
       "  <tbody>\n",
       "    <tr>\n",
       "      <th>0</th>\n",
       "      <td>2002</td>\n",
       "      <td>13.998744</td>\n",
       "      <td>11.504811</td>\n",
       "    </tr>\n",
       "    <tr>\n",
       "      <th>1</th>\n",
       "      <td>2003</td>\n",
       "      <td>14.413351</td>\n",
       "      <td>11.705889</td>\n",
       "    </tr>\n",
       "    <tr>\n",
       "      <th>2</th>\n",
       "      <td>2004</td>\n",
       "      <td>14.540607</td>\n",
       "      <td>11.878729</td>\n",
       "    </tr>\n",
       "    <tr>\n",
       "      <th>3</th>\n",
       "      <td>2005</td>\n",
       "      <td>14.761586</td>\n",
       "      <td>12.094132</td>\n",
       "    </tr>\n",
       "    <tr>\n",
       "      <th>4</th>\n",
       "      <td>2006</td>\n",
       "      <td>15.286473</td>\n",
       "      <td>12.135764</td>\n",
       "    </tr>\n",
       "    <tr>\n",
       "      <th>5</th>\n",
       "      <td>2007</td>\n",
       "      <td>15.669653</td>\n",
       "      <td>12.559294</td>\n",
       "    </tr>\n",
       "    <tr>\n",
       "      <th>6</th>\n",
       "      <td>2008</td>\n",
       "      <td>15.596259</td>\n",
       "      <td>12.458460</td>\n",
       "    </tr>\n",
       "    <tr>\n",
       "      <th>7</th>\n",
       "      <td>2009</td>\n",
       "      <td>15.522051</td>\n",
       "      <td>12.189410</td>\n",
       "    </tr>\n",
       "    <tr>\n",
       "      <th>8</th>\n",
       "      <td>2010</td>\n",
       "      <td>15.826992</td>\n",
       "      <td>12.358683</td>\n",
       "    </tr>\n",
       "    <tr>\n",
       "      <th>9</th>\n",
       "      <td>2011</td>\n",
       "      <td>15.877800</td>\n",
       "      <td>12.487341</td>\n",
       "    </tr>\n",
       "    <tr>\n",
       "      <th>10</th>\n",
       "      <td>2012</td>\n",
       "      <td>16.148515</td>\n",
       "      <td>12.944464</td>\n",
       "    </tr>\n",
       "    <tr>\n",
       "      <th>11</th>\n",
       "      <td>2013</td>\n",
       "      <td>16.299738</td>\n",
       "      <td>12.891012</td>\n",
       "    </tr>\n",
       "    <tr>\n",
       "      <th>12</th>\n",
       "      <td>2014</td>\n",
       "      <td>16.505047</td>\n",
       "      <td>13.000278</td>\n",
       "    </tr>\n",
       "  </tbody>\n",
       "</table>\n",
       "</div>"
      ],
      "text/plain": [
       "    Year  Foreign Born Share Of Labor Force  Immigrant Pct\n",
       "0   2002                          13.998744      11.504811\n",
       "1   2003                          14.413351      11.705889\n",
       "2   2004                          14.540607      11.878729\n",
       "3   2005                          14.761586      12.094132\n",
       "4   2006                          15.286473      12.135764\n",
       "5   2007                          15.669653      12.559294\n",
       "6   2008                          15.596259      12.458460\n",
       "7   2009                          15.522051      12.189410\n",
       "8   2010                          15.826992      12.358683\n",
       "9   2011                          15.877800      12.487341\n",
       "10  2012                          16.148515      12.944464\n",
       "11  2013                          16.299738      12.891012\n",
       "12  2014                          16.505047      13.000278"
      ]
     },
     "execution_count": 115,
     "metadata": {},
     "output_type": "execute_result"
    }
   ],
   "source": [
    "immcombodf"
   ]
  },
  {
   "cell_type": "code",
   "execution_count": 116,
   "metadata": {
    "collapsed": true
   },
   "outputs": [],
   "source": [
    "immcombodf = immcombodf.set_index('Year')"
   ]
  },
  {
   "cell_type": "code",
   "execution_count": 118,
   "metadata": {},
   "outputs": [
    {
     "data": {
      "image/png": "[encoded data removed]",
      "text/plain": [
       "<matplotlib.figure.Figure at 0x11acb0a20>"
      ]
     },
     "metadata": {},
     "output_type": "display_data"
    }
   ],
   "source": [
    "fig, ax = plt.subplots()\n",
    "immcombodf.plot(ax=ax)\n",
    "ax.set_ylim(ymin=0, ymax=20)\n",
    "plt.show()"
   ]
  }
 ],
 "metadata": {
  "kernelspec": {
   "display_name": "Python 3",
   "language": "python",
   "name": "python3"
  },
  "language_info": {
   "codemirror_mode": {
    "name": "ipython",
    "version": 3
   },
   "file_extension": ".py",
   "mimetype": "text/x-python",
   "name": "python",
   "nbconvert_exporter": "python",
   "pygments_lexer": "ipython3",
   "version": "3.6.2"
  }
 },
 "nbformat": 4,
 "nbformat_minor": 2
}
